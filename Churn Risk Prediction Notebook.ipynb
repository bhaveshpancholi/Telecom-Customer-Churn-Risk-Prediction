{
 "cells": [
  {
   "cell_type": "code",
   "execution_count": 252,
   "metadata": {
    "colab": {},
    "colab_type": "code",
    "id": "doMjuClEL1Ts"
   },
   "outputs": [],
   "source": [
    "import numpy as np\n",
    "import pandas as pd\n",
    "import matplotlib.pyplot as plt\n",
    "import seaborn as sns"
   ]
  },
  {
   "cell_type": "code",
   "execution_count": 253,
   "metadata": {
    "colab": {},
    "colab_type": "code",
    "id": "jxbXmFPXMcGp"
   },
   "outputs": [],
   "source": [
    "df_train = pd .read_csv('Churn History Dataset.csv')\n",
    "df_test = pd.read_csv('Churn Test Dataset.csv')"
   ]
  },
  {
   "cell_type": "code",
   "execution_count": 254,
   "metadata": {
    "colab": {
     "base_uri": "https://localhost:8080/",
     "height": 330
    },
    "colab_type": "code",
    "id": "bCK1RG8tMlj-",
    "outputId": "ddb39f0d-9eda-43b6-be31-86dbe70f15a3"
   },
   "outputs": [
    {
     "data": {
      "text/html": [
       "<div>\n",
       "<style scoped>\n",
       "    .dataframe tbody tr th:only-of-type {\n",
       "        vertical-align: middle;\n",
       "    }\n",
       "\n",
       "    .dataframe tbody tr th {\n",
       "        vertical-align: top;\n",
       "    }\n",
       "\n",
       "    .dataframe thead th {\n",
       "        text-align: right;\n",
       "    }\n",
       "</style>\n",
       "<table border=\"1\" class=\"dataframe\">\n",
       "  <thead>\n",
       "    <tr style=\"text-align: right;\">\n",
       "      <th></th>\n",
       "      <th>state</th>\n",
       "      <th>account length</th>\n",
       "      <th>area code</th>\n",
       "      <th>phone number</th>\n",
       "      <th>international plan</th>\n",
       "      <th>voice mail plan</th>\n",
       "      <th>number vmail messages</th>\n",
       "      <th>total day minutes</th>\n",
       "      <th>total day calls</th>\n",
       "      <th>total day charge</th>\n",
       "      <th>...</th>\n",
       "      <th>total eve calls</th>\n",
       "      <th>total eve charge</th>\n",
       "      <th>total night minutes</th>\n",
       "      <th>total night calls</th>\n",
       "      <th>total night charge</th>\n",
       "      <th>total intl minutes</th>\n",
       "      <th>total intl calls</th>\n",
       "      <th>total intl charge</th>\n",
       "      <th>number customer service calls</th>\n",
       "      <th>Churn Indicator</th>\n",
       "    </tr>\n",
       "  </thead>\n",
       "  <tbody>\n",
       "    <tr>\n",
       "      <th>0</th>\n",
       "      <td>KS</td>\n",
       "      <td>128</td>\n",
       "      <td>415</td>\n",
       "      <td>382-4657</td>\n",
       "      <td>no</td>\n",
       "      <td>yes</td>\n",
       "      <td>25</td>\n",
       "      <td>265.1</td>\n",
       "      <td>110.0</td>\n",
       "      <td>45.07</td>\n",
       "      <td>...</td>\n",
       "      <td>99</td>\n",
       "      <td>16.78</td>\n",
       "      <td>244.7</td>\n",
       "      <td>91.0</td>\n",
       "      <td>11.01</td>\n",
       "      <td>10.0</td>\n",
       "      <td>3</td>\n",
       "      <td>2.70</td>\n",
       "      <td>1</td>\n",
       "      <td>False.</td>\n",
       "    </tr>\n",
       "    <tr>\n",
       "      <th>1</th>\n",
       "      <td>OH</td>\n",
       "      <td>107</td>\n",
       "      <td>415</td>\n",
       "      <td>371-7191</td>\n",
       "      <td>no</td>\n",
       "      <td>yes</td>\n",
       "      <td>26</td>\n",
       "      <td>161.6</td>\n",
       "      <td>123.0</td>\n",
       "      <td>27.47</td>\n",
       "      <td>...</td>\n",
       "      <td>103</td>\n",
       "      <td>16.62</td>\n",
       "      <td>254.4</td>\n",
       "      <td>103.0</td>\n",
       "      <td>11.45</td>\n",
       "      <td>13.7</td>\n",
       "      <td>3</td>\n",
       "      <td>3.70</td>\n",
       "      <td>1</td>\n",
       "      <td>False.</td>\n",
       "    </tr>\n",
       "    <tr>\n",
       "      <th>2</th>\n",
       "      <td>NJ</td>\n",
       "      <td>137</td>\n",
       "      <td>415</td>\n",
       "      <td>358-1921</td>\n",
       "      <td>no</td>\n",
       "      <td>no</td>\n",
       "      <td>0</td>\n",
       "      <td>243.4</td>\n",
       "      <td>114.0</td>\n",
       "      <td>41.38</td>\n",
       "      <td>...</td>\n",
       "      <td>110</td>\n",
       "      <td>10.30</td>\n",
       "      <td>162.6</td>\n",
       "      <td>104.0</td>\n",
       "      <td>7.32</td>\n",
       "      <td>12.2</td>\n",
       "      <td>5</td>\n",
       "      <td>3.29</td>\n",
       "      <td>0</td>\n",
       "      <td>False.</td>\n",
       "    </tr>\n",
       "    <tr>\n",
       "      <th>3</th>\n",
       "      <td>OH</td>\n",
       "      <td>84</td>\n",
       "      <td>408</td>\n",
       "      <td>375-9999</td>\n",
       "      <td>yes</td>\n",
       "      <td>no</td>\n",
       "      <td>0</td>\n",
       "      <td>299.4</td>\n",
       "      <td>7100.0</td>\n",
       "      <td>1500.90</td>\n",
       "      <td>...</td>\n",
       "      <td>88</td>\n",
       "      <td>5.26</td>\n",
       "      <td>196.9</td>\n",
       "      <td>89.0</td>\n",
       "      <td>8.86</td>\n",
       "      <td>600.6</td>\n",
       "      <td>7</td>\n",
       "      <td>1.78</td>\n",
       "      <td>2</td>\n",
       "      <td>False.</td>\n",
       "    </tr>\n",
       "    <tr>\n",
       "      <th>4</th>\n",
       "      <td>OK</td>\n",
       "      <td>75</td>\n",
       "      <td>415</td>\n",
       "      <td>330-6626</td>\n",
       "      <td>yes</td>\n",
       "      <td>no</td>\n",
       "      <td>0</td>\n",
       "      <td>166.7</td>\n",
       "      <td>113.0</td>\n",
       "      <td>28.34</td>\n",
       "      <td>...</td>\n",
       "      <td>122</td>\n",
       "      <td>12.61</td>\n",
       "      <td>186.9</td>\n",
       "      <td>121.0</td>\n",
       "      <td>8.41</td>\n",
       "      <td>10.1</td>\n",
       "      <td>3</td>\n",
       "      <td>2.73</td>\n",
       "      <td>3</td>\n",
       "      <td>False.</td>\n",
       "    </tr>\n",
       "  </tbody>\n",
       "</table>\n",
       "<p>5 rows × 21 columns</p>\n",
       "</div>"
      ],
      "text/plain": [
       "  state  account length  area code phone number international plan  \\\n",
       "0    KS             128        415     382-4657                 no   \n",
       "1    OH             107        415     371-7191                 no   \n",
       "2    NJ             137        415     358-1921                 no   \n",
       "3    OH              84        408     375-9999                yes   \n",
       "4    OK              75        415     330-6626                yes   \n",
       "\n",
       "  voice mail plan  number vmail messages  total day minutes  total day calls  \\\n",
       "0             yes                     25              265.1            110.0   \n",
       "1             yes                     26              161.6            123.0   \n",
       "2              no                      0              243.4            114.0   \n",
       "3              no                      0              299.4           7100.0   \n",
       "4              no                      0              166.7            113.0   \n",
       "\n",
       "   total day charge  ...  total eve calls  total eve charge  \\\n",
       "0             45.07  ...               99             16.78   \n",
       "1             27.47  ...              103             16.62   \n",
       "2             41.38  ...              110             10.30   \n",
       "3           1500.90  ...               88              5.26   \n",
       "4             28.34  ...              122             12.61   \n",
       "\n",
       "   total night minutes  total night calls  total night charge  \\\n",
       "0                244.7               91.0               11.01   \n",
       "1                254.4              103.0               11.45   \n",
       "2                162.6              104.0                7.32   \n",
       "3                196.9               89.0                8.86   \n",
       "4                186.9              121.0                8.41   \n",
       "\n",
       "   total intl minutes  total intl calls  total intl charge  \\\n",
       "0                10.0                 3               2.70   \n",
       "1                13.7                 3               3.70   \n",
       "2                12.2                 5               3.29   \n",
       "3               600.6                 7               1.78   \n",
       "4                10.1                 3               2.73   \n",
       "\n",
       "   number customer service calls  Churn Indicator  \n",
       "0                              1           False.  \n",
       "1                              1           False.  \n",
       "2                              0           False.  \n",
       "3                              2           False.  \n",
       "4                              3           False.  \n",
       "\n",
       "[5 rows x 21 columns]"
      ]
     },
     "execution_count": 254,
     "metadata": {},
     "output_type": "execute_result"
    }
   ],
   "source": [
    "df_train.head()"
   ]
  },
  {
   "cell_type": "code",
   "execution_count": 255,
   "metadata": {
    "colab": {
     "base_uri": "https://localhost:8080/",
     "height": 330
    },
    "colab_type": "code",
    "id": "XlfYFWEkN77A",
    "outputId": "6877f21c-8a12-4a63-bdc8-50846f7c4fc1"
   },
   "outputs": [
    {
     "data": {
      "text/html": [
       "<div>\n",
       "<style scoped>\n",
       "    .dataframe tbody tr th:only-of-type {\n",
       "        vertical-align: middle;\n",
       "    }\n",
       "\n",
       "    .dataframe tbody tr th {\n",
       "        vertical-align: top;\n",
       "    }\n",
       "\n",
       "    .dataframe thead th {\n",
       "        text-align: right;\n",
       "    }\n",
       "</style>\n",
       "<table border=\"1\" class=\"dataframe\">\n",
       "  <thead>\n",
       "    <tr style=\"text-align: right;\">\n",
       "      <th></th>\n",
       "      <th>state</th>\n",
       "      <th>account length</th>\n",
       "      <th>area code</th>\n",
       "      <th>phone number</th>\n",
       "      <th>international plan</th>\n",
       "      <th>voice mail plan</th>\n",
       "      <th>number vmail messages</th>\n",
       "      <th>total day minutes</th>\n",
       "      <th>total day calls</th>\n",
       "      <th>total day charge</th>\n",
       "      <th>...</th>\n",
       "      <th>total eve calls</th>\n",
       "      <th>total eve charge</th>\n",
       "      <th>total night minutes</th>\n",
       "      <th>total night calls</th>\n",
       "      <th>total night charge</th>\n",
       "      <th>total intl minutes</th>\n",
       "      <th>total intl calls</th>\n",
       "      <th>total intl charge</th>\n",
       "      <th>number customer service calls</th>\n",
       "      <th>Churn Indicator</th>\n",
       "    </tr>\n",
       "  </thead>\n",
       "  <tbody>\n",
       "    <tr>\n",
       "      <th>0</th>\n",
       "      <td>HI</td>\n",
       "      <td>101</td>\n",
       "      <td>510</td>\n",
       "      <td>354-8814</td>\n",
       "      <td>no</td>\n",
       "      <td>no</td>\n",
       "      <td>0</td>\n",
       "      <td>70.9</td>\n",
       "      <td>123</td>\n",
       "      <td>12.05</td>\n",
       "      <td>...</td>\n",
       "      <td>73</td>\n",
       "      <td>18.01</td>\n",
       "      <td>236.0</td>\n",
       "      <td>73</td>\n",
       "      <td>10.62</td>\n",
       "      <td>10.6</td>\n",
       "      <td>3</td>\n",
       "      <td>2.86</td>\n",
       "      <td>3</td>\n",
       "      <td>False.</td>\n",
       "    </tr>\n",
       "    <tr>\n",
       "      <th>1</th>\n",
       "      <td>MT</td>\n",
       "      <td>137</td>\n",
       "      <td>510</td>\n",
       "      <td>381-7210</td>\n",
       "      <td>no</td>\n",
       "      <td>no</td>\n",
       "      <td>0</td>\n",
       "      <td>223.6</td>\n",
       "      <td>86</td>\n",
       "      <td>38.01</td>\n",
       "      <td>...</td>\n",
       "      <td>139</td>\n",
       "      <td>20.81</td>\n",
       "      <td>94.2</td>\n",
       "      <td>81</td>\n",
       "      <td>4.24</td>\n",
       "      <td>9.5</td>\n",
       "      <td>7</td>\n",
       "      <td>2.57</td>\n",
       "      <td>0</td>\n",
       "      <td>False.</td>\n",
       "    </tr>\n",
       "    <tr>\n",
       "      <th>2</th>\n",
       "      <td>OH</td>\n",
       "      <td>103</td>\n",
       "      <td>408</td>\n",
       "      <td>411-9480</td>\n",
       "      <td>yes</td>\n",
       "      <td>yes</td>\n",
       "      <td>29</td>\n",
       "      <td>294.7</td>\n",
       "      <td>95</td>\n",
       "      <td>50.10</td>\n",
       "      <td>...</td>\n",
       "      <td>105</td>\n",
       "      <td>20.17</td>\n",
       "      <td>300.3</td>\n",
       "      <td>127</td>\n",
       "      <td>13.51</td>\n",
       "      <td>13.7</td>\n",
       "      <td>6</td>\n",
       "      <td>3.70</td>\n",
       "      <td>1</td>\n",
       "      <td>False.</td>\n",
       "    </tr>\n",
       "    <tr>\n",
       "      <th>3</th>\n",
       "      <td>NM</td>\n",
       "      <td>99</td>\n",
       "      <td>415</td>\n",
       "      <td>418-9103</td>\n",
       "      <td>no</td>\n",
       "      <td>no</td>\n",
       "      <td>0</td>\n",
       "      <td>216.8</td>\n",
       "      <td>123</td>\n",
       "      <td>36.86</td>\n",
       "      <td>...</td>\n",
       "      <td>88</td>\n",
       "      <td>10.74</td>\n",
       "      <td>220.6</td>\n",
       "      <td>82</td>\n",
       "      <td>9.93</td>\n",
       "      <td>15.7</td>\n",
       "      <td>2</td>\n",
       "      <td>4.24</td>\n",
       "      <td>1</td>\n",
       "      <td>False.</td>\n",
       "    </tr>\n",
       "    <tr>\n",
       "      <th>4</th>\n",
       "      <td>SC</td>\n",
       "      <td>108</td>\n",
       "      <td>415</td>\n",
       "      <td>413-3646</td>\n",
       "      <td>no</td>\n",
       "      <td>no</td>\n",
       "      <td>0</td>\n",
       "      <td>197.4</td>\n",
       "      <td>78</td>\n",
       "      <td>33.56</td>\n",
       "      <td>...</td>\n",
       "      <td>101</td>\n",
       "      <td>10.54</td>\n",
       "      <td>204.5</td>\n",
       "      <td>107</td>\n",
       "      <td>9.20</td>\n",
       "      <td>7.7</td>\n",
       "      <td>4</td>\n",
       "      <td>2.08</td>\n",
       "      <td>2</td>\n",
       "      <td>False.</td>\n",
       "    </tr>\n",
       "  </tbody>\n",
       "</table>\n",
       "<p>5 rows × 21 columns</p>\n",
       "</div>"
      ],
      "text/plain": [
       "  state  account length  area code phone number international plan  \\\n",
       "0    HI             101        510     354-8814                 no   \n",
       "1    MT             137        510     381-7210                 no   \n",
       "2    OH             103        408     411-9480                yes   \n",
       "3    NM              99        415     418-9103                 no   \n",
       "4    SC             108        415     413-3646                 no   \n",
       "\n",
       "  voice mail plan  number vmail messages  total day minutes  total day calls  \\\n",
       "0              no                      0               70.9              123   \n",
       "1              no                      0              223.6               86   \n",
       "2             yes                     29              294.7               95   \n",
       "3              no                      0              216.8              123   \n",
       "4              no                      0              197.4               78   \n",
       "\n",
       "   total day charge  ...  total eve calls  total eve charge  \\\n",
       "0             12.05  ...               73             18.01   \n",
       "1             38.01  ...              139             20.81   \n",
       "2             50.10  ...              105             20.17   \n",
       "3             36.86  ...               88             10.74   \n",
       "4             33.56  ...              101             10.54   \n",
       "\n",
       "   total night minutes  total night calls  total night charge  \\\n",
       "0                236.0                 73               10.62   \n",
       "1                 94.2                 81                4.24   \n",
       "2                300.3                127               13.51   \n",
       "3                220.6                 82                9.93   \n",
       "4                204.5                107                9.20   \n",
       "\n",
       "   total intl minutes  total intl calls  total intl charge  \\\n",
       "0                10.6                 3               2.86   \n",
       "1                 9.5                 7               2.57   \n",
       "2                13.7                 6               3.70   \n",
       "3                15.7                 2               4.24   \n",
       "4                 7.7                 4               2.08   \n",
       "\n",
       "   number customer service calls  Churn Indicator  \n",
       "0                              3           False.  \n",
       "1                              0           False.  \n",
       "2                              1           False.  \n",
       "3                              1           False.  \n",
       "4                              2           False.  \n",
       "\n",
       "[5 rows x 21 columns]"
      ]
     },
     "execution_count": 255,
     "metadata": {},
     "output_type": "execute_result"
    }
   ],
   "source": [
    "df_test.head()"
   ]
  },
  {
   "cell_type": "code",
   "execution_count": 256,
   "metadata": {
    "colab": {
     "base_uri": "https://localhost:8080/",
     "height": 487
    },
    "colab_type": "code",
    "id": "ff8thMdLOB9Q",
    "outputId": "f5fc2272-4825-4c18-ec73-214fb32d40e5"
   },
   "outputs": [
    {
     "name": "stdout",
     "output_type": "stream",
     "text": [
      "<class 'pandas.core.frame.DataFrame'>\n",
      "RangeIndex: 3333 entries, 0 to 3332\n",
      "Data columns (total 21 columns):\n",
      "state                            3333 non-null object\n",
      "account length                   3333 non-null int64\n",
      "area code                        3333 non-null int64\n",
      "phone number                     3333 non-null object\n",
      "international plan               3333 non-null object\n",
      "voice mail plan                  3333 non-null object\n",
      "number vmail messages            3333 non-null int64\n",
      "total day minutes                3333 non-null float64\n",
      "total day calls                  3332 non-null float64\n",
      "total day charge                 3332 non-null float64\n",
      "total eve minutes                3331 non-null float64\n",
      "total eve calls                  3333 non-null int64\n",
      "total eve charge                 3332 non-null float64\n",
      "total night minutes              3333 non-null float64\n",
      "total night calls                3331 non-null float64\n",
      "total night charge               3333 non-null float64\n",
      "total intl minutes               3333 non-null float64\n",
      "total intl calls                 3333 non-null int64\n",
      "total intl charge                3333 non-null float64\n",
      "number customer service calls    3333 non-null int64\n",
      "Churn Indicator                  3333 non-null object\n",
      "dtypes: float64(10), int64(6), object(5)\n",
      "memory usage: 546.9+ KB\n"
     ]
    }
   ],
   "source": [
    "df_train.info()"
   ]
  },
  {
   "cell_type": "code",
   "execution_count": 257,
   "metadata": {
    "colab": {
     "base_uri": "https://localhost:8080/",
     "height": 487
    },
    "colab_type": "code",
    "id": "jbO2OPmsOQ8I",
    "outputId": "927efc1a-dcc6-4d13-8995-fb4930f5b728"
   },
   "outputs": [
    {
     "name": "stdout",
     "output_type": "stream",
     "text": [
      "<class 'pandas.core.frame.DataFrame'>\n",
      "RangeIndex: 1672 entries, 0 to 1671\n",
      "Data columns (total 21 columns):\n",
      "state                            1672 non-null object\n",
      "account length                   1672 non-null int64\n",
      "area code                        1672 non-null int64\n",
      "phone number                     1672 non-null object\n",
      "international plan               1672 non-null object\n",
      "voice mail plan                  1672 non-null object\n",
      "number vmail messages            1672 non-null int64\n",
      "total day minutes                1672 non-null float64\n",
      "total day calls                  1672 non-null int64\n",
      "total day charge                 1672 non-null float64\n",
      "total eve minutes                1672 non-null float64\n",
      "total eve calls                  1672 non-null int64\n",
      "total eve charge                 1672 non-null float64\n",
      "total night minutes              1672 non-null float64\n",
      "total night calls                1672 non-null int64\n",
      "total night charge               1672 non-null float64\n",
      "total intl minutes               1672 non-null float64\n",
      "total intl calls                 1672 non-null int64\n",
      "total intl charge                1672 non-null float64\n",
      "number customer service calls    1672 non-null int64\n",
      "Churn Indicator                  1672 non-null object\n",
      "dtypes: float64(8), int64(8), object(5)\n",
      "memory usage: 274.4+ KB\n"
     ]
    }
   ],
   "source": [
    "df_test.info()"
   ]
  },
  {
   "cell_type": "markdown",
   "metadata": {
    "colab_type": "text",
    "id": "wExY8ddPV-m-"
   },
   "source": [
    "## **QI. Perform exploratory analysis and understand and present your findings. Which attributes seem to have a bearing on churn behavior? Any data transformations neededfor modeling? Are there any outliers or extreme values that could skew your analysis?How do you want to deal with them?**"
   ]
  },
  {
   "cell_type": "markdown",
   "metadata": {
    "colab_type": "text",
    "id": "jU75xipDWcKn"
   },
   "source": [
    "### Handling Missing data"
   ]
  },
  {
   "cell_type": "code",
   "execution_count": 258,
   "metadata": {
    "colab": {
     "base_uri": "https://localhost:8080/",
     "height": 386
    },
    "colab_type": "code",
    "id": "w1IynLHvOVP-",
    "outputId": "afb127b5-863d-4fbc-d4e9-59b5bc415286"
   },
   "outputs": [
    {
     "data": {
      "text/plain": [
       "state                            0\n",
       "account length                   0\n",
       "area code                        0\n",
       "phone number                     0\n",
       "international plan               0\n",
       "voice mail plan                  0\n",
       "number vmail messages            0\n",
       "total day minutes                0\n",
       "total day calls                  1\n",
       "total day charge                 1\n",
       "total eve minutes                2\n",
       "total eve calls                  0\n",
       "total eve charge                 1\n",
       "total night minutes              0\n",
       "total night calls                2\n",
       "total night charge               0\n",
       "total intl minutes               0\n",
       "total intl calls                 0\n",
       "total intl charge                0\n",
       "number customer service calls    0\n",
       "Churn Indicator                  0\n",
       "dtype: int64"
      ]
     },
     "execution_count": 258,
     "metadata": {},
     "output_type": "execute_result"
    }
   ],
   "source": [
    "df_train.isnull().sum()"
   ]
  },
  {
   "cell_type": "markdown",
   "metadata": {
    "colab_type": "text",
    "id": "TN11yyYwOjV5"
   },
   "source": [
    "**So there is some missing values in the training dataset.**"
   ]
  },
  {
   "cell_type": "code",
   "execution_count": 259,
   "metadata": {
    "colab": {},
    "colab_type": "code",
    "id": "SJLEWAAFPp90"
   },
   "outputs": [],
   "source": [
    "df_train = df_train.fillna(df_train.median()[0]) #filling the missing values with median values of the features as missing values are in numeric\n",
    "#feature column"
   ]
  },
  {
   "cell_type": "code",
   "execution_count": 260,
   "metadata": {
    "colab": {
     "base_uri": "https://localhost:8080/",
     "height": 386
    },
    "colab_type": "code",
    "id": "n-GThXH3QLrd",
    "outputId": "47fe6da7-ad3f-4e07-931d-3f3487cd5b3c"
   },
   "outputs": [
    {
     "data": {
      "text/plain": [
       "state                            0\n",
       "account length                   0\n",
       "area code                        0\n",
       "phone number                     0\n",
       "international plan               0\n",
       "voice mail plan                  0\n",
       "number vmail messages            0\n",
       "total day minutes                0\n",
       "total day calls                  0\n",
       "total day charge                 0\n",
       "total eve minutes                0\n",
       "total eve calls                  0\n",
       "total eve charge                 0\n",
       "total night minutes              0\n",
       "total night calls                0\n",
       "total night charge               0\n",
       "total intl minutes               0\n",
       "total intl calls                 0\n",
       "total intl charge                0\n",
       "number customer service calls    0\n",
       "Churn Indicator                  0\n",
       "dtype: int64"
      ]
     },
     "execution_count": 260,
     "metadata": {},
     "output_type": "execute_result"
    }
   ],
   "source": [
    "df_train.isnull().sum()"
   ]
  },
  {
   "cell_type": "markdown",
   "metadata": {
    "colab_type": "text",
    "id": "EcuGHrUmQnUp"
   },
   "source": [
    "**Now no missing value in the training dataset and test set contains no missing values**"
   ]
  },
  {
   "cell_type": "code",
   "execution_count": 261,
   "metadata": {
    "colab": {
     "base_uri": "https://localhost:8080/",
     "height": 34
    },
    "colab_type": "code",
    "id": "eaNPJfQMOvJ6",
    "outputId": "6b217607-625f-43c6-8021-604e00e202a9"
   },
   "outputs": [
    {
     "data": {
      "text/plain": [
       "(3333, 21)"
      ]
     },
     "execution_count": 261,
     "metadata": {},
     "output_type": "execute_result"
    }
   ],
   "source": [
    "df_train.shape"
   ]
  },
  {
   "cell_type": "code",
   "execution_count": 262,
   "metadata": {
    "colab": {
     "base_uri": "https://localhost:8080/",
     "height": 34
    },
    "colab_type": "code",
    "id": "tCFtvlyiPEAB",
    "outputId": "f283f941-3b8b-4c93-c60b-8d154f498ad1"
   },
   "outputs": [
    {
     "data": {
      "text/plain": [
       "(1672, 21)"
      ]
     },
     "execution_count": 262,
     "metadata": {},
     "output_type": "execute_result"
    }
   ],
   "source": [
    "df_test.shape"
   ]
  },
  {
   "cell_type": "code",
   "execution_count": 263,
   "metadata": {
    "colab": {
     "base_uri": "https://localhost:8080/",
     "height": 354
    },
    "colab_type": "code",
    "id": "3HTY4Hj6PHVV",
    "outputId": "44fa3611-3bf7-4fa4-82b0-63ae33821e37"
   },
   "outputs": [
    {
     "data": {
      "text/html": [
       "<div>\n",
       "<style scoped>\n",
       "    .dataframe tbody tr th:only-of-type {\n",
       "        vertical-align: middle;\n",
       "    }\n",
       "\n",
       "    .dataframe tbody tr th {\n",
       "        vertical-align: top;\n",
       "    }\n",
       "\n",
       "    .dataframe thead th {\n",
       "        text-align: right;\n",
       "    }\n",
       "</style>\n",
       "<table border=\"1\" class=\"dataframe\">\n",
       "  <thead>\n",
       "    <tr style=\"text-align: right;\">\n",
       "      <th></th>\n",
       "      <th>account length</th>\n",
       "      <th>area code</th>\n",
       "      <th>number vmail messages</th>\n",
       "      <th>total day minutes</th>\n",
       "      <th>total day calls</th>\n",
       "      <th>total day charge</th>\n",
       "      <th>total eve minutes</th>\n",
       "      <th>total eve calls</th>\n",
       "      <th>total eve charge</th>\n",
       "      <th>total night minutes</th>\n",
       "      <th>total night calls</th>\n",
       "      <th>total night charge</th>\n",
       "      <th>total intl minutes</th>\n",
       "      <th>total intl calls</th>\n",
       "      <th>total intl charge</th>\n",
       "      <th>number customer service calls</th>\n",
       "    </tr>\n",
       "  </thead>\n",
       "  <tbody>\n",
       "    <tr>\n",
       "      <th>count</th>\n",
       "      <td>3333.000000</td>\n",
       "      <td>3333.000000</td>\n",
       "      <td>3333.000000</td>\n",
       "      <td>3333.000000</td>\n",
       "      <td>3333.000000</td>\n",
       "      <td>3333.000000</td>\n",
       "      <td>3333.000000</td>\n",
       "      <td>3333.000000</td>\n",
       "      <td>3333.000000</td>\n",
       "      <td>3333.000000</td>\n",
       "      <td>3333.000000</td>\n",
       "      <td>3333.000000</td>\n",
       "      <td>3333.000000</td>\n",
       "      <td>3333.000000</td>\n",
       "      <td>3333.000000</td>\n",
       "      <td>3333.000000</td>\n",
       "    </tr>\n",
       "    <tr>\n",
       "      <th>mean</th>\n",
       "      <td>101.064806</td>\n",
       "      <td>437.182418</td>\n",
       "      <td>8.099010</td>\n",
       "      <td>190.740294</td>\n",
       "      <td>103.218122</td>\n",
       "      <td>101.768344</td>\n",
       "      <td>200.945725</td>\n",
       "      <td>100.343834</td>\n",
       "      <td>17.110810</td>\n",
       "      <td>201.808803</td>\n",
       "      <td>100.374137</td>\n",
       "      <td>16.062715</td>\n",
       "      <td>10.523132</td>\n",
       "      <td>4.488749</td>\n",
       "      <td>13.128689</td>\n",
       "      <td>1.572757</td>\n",
       "    </tr>\n",
       "    <tr>\n",
       "      <th>std</th>\n",
       "      <td>39.822106</td>\n",
       "      <td>42.371290</td>\n",
       "      <td>13.688365</td>\n",
       "      <td>598.879213</td>\n",
       "      <td>128.872433</td>\n",
       "      <td>4024.490629</td>\n",
       "      <td>50.753020</td>\n",
       "      <td>23.781417</td>\n",
       "      <td>4.547522</td>\n",
       "      <td>75.438537</td>\n",
       "      <td>24.873186</td>\n",
       "      <td>405.568376</td>\n",
       "      <td>12.241776</td>\n",
       "      <td>2.513638</td>\n",
       "      <td>598.319452</td>\n",
       "      <td>1.430420</td>\n",
       "    </tr>\n",
       "    <tr>\n",
       "      <th>min</th>\n",
       "      <td>1.000000</td>\n",
       "      <td>408.000000</td>\n",
       "      <td>0.000000</td>\n",
       "      <td>0.000000</td>\n",
       "      <td>0.000000</td>\n",
       "      <td>0.000000</td>\n",
       "      <td>0.000000</td>\n",
       "      <td>0.000000</td>\n",
       "      <td>0.000000</td>\n",
       "      <td>23.200000</td>\n",
       "      <td>33.000000</td>\n",
       "      <td>1.040000</td>\n",
       "      <td>0.000000</td>\n",
       "      <td>0.000000</td>\n",
       "      <td>0.000000</td>\n",
       "      <td>0.000000</td>\n",
       "    </tr>\n",
       "    <tr>\n",
       "      <th>25%</th>\n",
       "      <td>74.000000</td>\n",
       "      <td>408.000000</td>\n",
       "      <td>0.000000</td>\n",
       "      <td>143.700000</td>\n",
       "      <td>87.000000</td>\n",
       "      <td>24.430000</td>\n",
       "      <td>166.600000</td>\n",
       "      <td>87.000000</td>\n",
       "      <td>14.160000</td>\n",
       "      <td>167.000000</td>\n",
       "      <td>87.000000</td>\n",
       "      <td>7.520000</td>\n",
       "      <td>8.500000</td>\n",
       "      <td>3.000000</td>\n",
       "      <td>2.300000</td>\n",
       "      <td>1.000000</td>\n",
       "    </tr>\n",
       "    <tr>\n",
       "      <th>50%</th>\n",
       "      <td>101.000000</td>\n",
       "      <td>415.000000</td>\n",
       "      <td>0.000000</td>\n",
       "      <td>179.400000</td>\n",
       "      <td>101.000000</td>\n",
       "      <td>30.500000</td>\n",
       "      <td>201.400000</td>\n",
       "      <td>100.000000</td>\n",
       "      <td>17.120000</td>\n",
       "      <td>201.200000</td>\n",
       "      <td>100.000000</td>\n",
       "      <td>9.050000</td>\n",
       "      <td>10.300000</td>\n",
       "      <td>4.000000</td>\n",
       "      <td>2.780000</td>\n",
       "      <td>1.000000</td>\n",
       "    </tr>\n",
       "    <tr>\n",
       "      <th>75%</th>\n",
       "      <td>127.000000</td>\n",
       "      <td>510.000000</td>\n",
       "      <td>20.000000</td>\n",
       "      <td>216.600000</td>\n",
       "      <td>114.000000</td>\n",
       "      <td>36.840000</td>\n",
       "      <td>235.300000</td>\n",
       "      <td>114.000000</td>\n",
       "      <td>20.000000</td>\n",
       "      <td>235.300000</td>\n",
       "      <td>113.000000</td>\n",
       "      <td>10.590000</td>\n",
       "      <td>12.100000</td>\n",
       "      <td>6.000000</td>\n",
       "      <td>3.270000</td>\n",
       "      <td>2.000000</td>\n",
       "    </tr>\n",
       "    <tr>\n",
       "      <th>max</th>\n",
       "      <td>243.000000</td>\n",
       "      <td>510.000000</td>\n",
       "      <td>51.000000</td>\n",
       "      <td>34545.000000</td>\n",
       "      <td>7100.000000</td>\n",
       "      <td>232343.000000</td>\n",
       "      <td>363.700000</td>\n",
       "      <td>850.000000</td>\n",
       "      <td>101.000000</td>\n",
       "      <td>3434.340000</td>\n",
       "      <td>987.000000</td>\n",
       "      <td>23423.000000</td>\n",
       "      <td>600.600000</td>\n",
       "      <td>34.000000</td>\n",
       "      <td>34545.000000</td>\n",
       "      <td>34.000000</td>\n",
       "    </tr>\n",
       "  </tbody>\n",
       "</table>\n",
       "</div>"
      ],
      "text/plain": [
       "       account length    area code  number vmail messages  total day minutes  \\\n",
       "count     3333.000000  3333.000000            3333.000000        3333.000000   \n",
       "mean       101.064806   437.182418               8.099010         190.740294   \n",
       "std         39.822106    42.371290              13.688365         598.879213   \n",
       "min          1.000000   408.000000               0.000000           0.000000   \n",
       "25%         74.000000   408.000000               0.000000         143.700000   \n",
       "50%        101.000000   415.000000               0.000000         179.400000   \n",
       "75%        127.000000   510.000000              20.000000         216.600000   \n",
       "max        243.000000   510.000000              51.000000       34545.000000   \n",
       "\n",
       "       total day calls  total day charge  total eve minutes  total eve calls  \\\n",
       "count      3333.000000       3333.000000        3333.000000      3333.000000   \n",
       "mean        103.218122        101.768344         200.945725       100.343834   \n",
       "std         128.872433       4024.490629          50.753020        23.781417   \n",
       "min           0.000000          0.000000           0.000000         0.000000   \n",
       "25%          87.000000         24.430000         166.600000        87.000000   \n",
       "50%         101.000000         30.500000         201.400000       100.000000   \n",
       "75%         114.000000         36.840000         235.300000       114.000000   \n",
       "max        7100.000000     232343.000000         363.700000       850.000000   \n",
       "\n",
       "       total eve charge  total night minutes  total night calls  \\\n",
       "count       3333.000000          3333.000000        3333.000000   \n",
       "mean          17.110810           201.808803         100.374137   \n",
       "std            4.547522            75.438537          24.873186   \n",
       "min            0.000000            23.200000          33.000000   \n",
       "25%           14.160000           167.000000          87.000000   \n",
       "50%           17.120000           201.200000         100.000000   \n",
       "75%           20.000000           235.300000         113.000000   \n",
       "max          101.000000          3434.340000         987.000000   \n",
       "\n",
       "       total night charge  total intl minutes  total intl calls  \\\n",
       "count         3333.000000         3333.000000       3333.000000   \n",
       "mean            16.062715           10.523132          4.488749   \n",
       "std            405.568376           12.241776          2.513638   \n",
       "min              1.040000            0.000000          0.000000   \n",
       "25%              7.520000            8.500000          3.000000   \n",
       "50%              9.050000           10.300000          4.000000   \n",
       "75%             10.590000           12.100000          6.000000   \n",
       "max          23423.000000          600.600000         34.000000   \n",
       "\n",
       "       total intl charge  number customer service calls  \n",
       "count        3333.000000                    3333.000000  \n",
       "mean           13.128689                       1.572757  \n",
       "std           598.319452                       1.430420  \n",
       "min             0.000000                       0.000000  \n",
       "25%             2.300000                       1.000000  \n",
       "50%             2.780000                       1.000000  \n",
       "75%             3.270000                       2.000000  \n",
       "max         34545.000000                      34.000000  "
      ]
     },
     "execution_count": 263,
     "metadata": {},
     "output_type": "execute_result"
    }
   ],
   "source": [
    "df_train.describe()"
   ]
  },
  {
   "cell_type": "markdown",
   "metadata": {
    "colab_type": "text",
    "id": "pdAz_t4f_FJE"
   },
   "source": [
    "**Max value of some columns is unusually high.This can be an outlier.**"
   ]
  },
  {
   "cell_type": "code",
   "execution_count": 264,
   "metadata": {
    "colab": {
     "base_uri": "https://localhost:8080/",
     "height": 151
    },
    "colab_type": "code",
    "id": "9yccOhH6Q5Zn",
    "outputId": "b8960f86-1059-4890-a92a-b42210646010"
   },
   "outputs": [
    {
     "data": {
      "text/plain": [
       "Index(['state', 'account length', 'area code', 'phone number',\n",
       "       'international plan', 'voice mail plan', 'number vmail messages',\n",
       "       'total day minutes', 'total day calls', 'total day charge',\n",
       "       'total eve minutes', 'total eve calls', 'total eve charge',\n",
       "       'total night minutes', 'total night calls', 'total night charge',\n",
       "       'total intl minutes', 'total intl calls', 'total intl charge',\n",
       "       'number customer service calls', 'Churn Indicator'],\n",
       "      dtype='object')"
      ]
     },
     "execution_count": 264,
     "metadata": {},
     "output_type": "execute_result"
    }
   ],
   "source": [
    "df_train.columns"
   ]
  },
  {
   "cell_type": "code",
   "execution_count": 265,
   "metadata": {
    "colab": {
     "base_uri": "https://localhost:8080/",
     "height": 67
    },
    "colab_type": "code",
    "id": "fzhRAPBCRDJy",
    "outputId": "c7d6edbb-aa08-4042-e40a-96616ab61e27"
   },
   "outputs": [
    {
     "data": {
      "text/plain": [
       " False.    2829\n",
       " True.      504\n",
       "Name: Churn Indicator, dtype: int64"
      ]
     },
     "execution_count": 265,
     "metadata": {},
     "output_type": "execute_result"
    }
   ],
   "source": [
    "df_train['Churn Indicator'].value_counts()"
   ]
  },
  {
   "cell_type": "code",
   "execution_count": 266,
   "metadata": {
    "colab": {
     "base_uri": "https://localhost:8080/",
     "height": 296
    },
    "colab_type": "code",
    "id": "xuI3PI0JR9ic",
    "outputId": "051174b5-0271-4381-d9bf-52e9c0b64ba2"
   },
   "outputs": [
    {
     "data": {
      "text/plain": [
       "<matplotlib.axes._subplots.AxesSubplot at 0x1ad41a58>"
      ]
     },
     "execution_count": 266,
     "metadata": {},
     "output_type": "execute_result"
    },
    {
     "data": {
      "image/png": "[encoded data removed]",
      "text/plain": [
       "<Figure size 432x288 with 1 Axes>"
      ]
     },
     "metadata": {
      "needs_background": "light"
     },
     "output_type": "display_data"
    }
   ],
   "source": [
    "sns.countplot(df_train['Churn Indicator'])"
   ]
  },
  {
   "cell_type": "code",
   "execution_count": 267,
   "metadata": {
    "colab": {
     "base_uri": "https://localhost:8080/",
     "height": 67
    },
    "colab_type": "code",
    "id": "VJNcpsawTobl",
    "outputId": "74c098ad-e3a9-48a4-a217-505ba55c7bff"
   },
   "outputs": [
    {
     "data": {
      "text/plain": [
       " False.    0.848785\n",
       " True.     0.151215\n",
       "Name: Churn Indicator, dtype: float64"
      ]
     },
     "execution_count": 267,
     "metadata": {},
     "output_type": "execute_result"
    }
   ],
   "source": [
    "df_train['Churn Indicator'].value_counts(normalize =True)"
   ]
  },
  {
   "cell_type": "markdown",
   "metadata": {
    "colab_type": "text",
    "id": "uqNS2RPhTz7M"
   },
   "source": [
    "**Only 15% of the data is True so we can say it is an imbalance dataset.**"
   ]
  },
  {
   "cell_type": "code",
   "execution_count": 268,
   "metadata": {
    "colab": {
     "base_uri": "https://localhost:8080/",
     "height": 351
    },
    "colab_type": "code",
    "id": "P25Hf63bTsi-",
    "outputId": "f5f7f832-ac38-4160-db3e-ee8b6618a7eb"
   },
   "outputs": [
    {
     "data": {
      "text/plain": [
       "<matplotlib.axes._subplots.AxesSubplot at 0x1ae25b38>"
      ]
     },
     "execution_count": 268,
     "metadata": {},
     "output_type": "execute_result"
    },
    {
     "data": {
      "image/png": "[encoded data removed]",
      "text/plain": [
       "<Figure size 1440x360 with 1 Axes>"
      ]
     },
     "metadata": {
      "needs_background": "light"
     },
     "output_type": "display_data"
    }
   ],
   "source": [
    "plt.figure(figsize=(20,5))\n",
    "sns.countplot(x='state',hue='Churn Indicator',data=df_train)"
   ]
  },
  {
   "cell_type": "markdown",
   "metadata": {
    "colab_type": "text",
    "id": "HlwEWN27VbDj"
   },
   "source": [
    "**So from this we can say that some states have higher churn like NJ,NY,TX,MD etc.** "
   ]
  },
  {
   "cell_type": "code",
   "execution_count": 269,
   "metadata": {
    "colab": {
     "base_uri": "https://localhost:8080/",
     "height": 296
    },
    "colab_type": "code",
    "id": "qUEZFH2LVRZ3",
    "outputId": "803defb2-d763-43f7-8f25-c5acbd4f90ac"
   },
   "outputs": [
    {
     "data": {
      "text/plain": [
       "<matplotlib.axes._subplots.AxesSubplot at 0x1b850320>"
      ]
     },
     "execution_count": 269,
     "metadata": {},
     "output_type": "execute_result"
    },
    {
     "data": {
      "image/png": "[encoded data removed]",
      "text/plain": [
       "<Figure size 432x288 with 1 Axes>"
      ]
     },
     "metadata": {
      "needs_background": "light"
     },
     "output_type": "display_data"
    }
   ],
   "source": [
    "sns.distplot(df_train['account length'],bins=50)"
   ]
  },
  {
   "cell_type": "markdown",
   "metadata": {
    "colab_type": "text",
    "id": "VjN-HlFvYw3c"
   },
   "source": [
    "**So mean account length is around 100 units.**"
   ]
  },
  {
   "cell_type": "code",
   "execution_count": 270,
   "metadata": {
    "colab": {
     "base_uri": "https://localhost:8080/",
     "height": 318
    },
    "colab_type": "code",
    "id": "KhqpS7xt9CRF",
    "outputId": "4368acd2-8ca4-448b-ede4-02ec3ea7dadb"
   },
   "outputs": [
    {
     "data": {
      "text/plain": [
       "<matplotlib.axes._subplots.AxesSubplot at 0x1b3ed518>"
      ]
     },
     "execution_count": 270,
     "metadata": {},
     "output_type": "execute_result"
    },
    {
     "data": {
      "image/png": "[encoded data removed]",
      "text/plain": [
       "<Figure size 432x288 with 1 Axes>"
      ]
     },
     "metadata": {
      "needs_background": "light"
     },
     "output_type": "display_data"
    }
   ],
   "source": [
    "df_train.groupby(['Churn Indicator']).mean()['account length'].plot(kind='bar')"
   ]
  },
  {
   "cell_type": "markdown",
   "metadata": {
    "colab_type": "text",
    "id": "PxITiQZV-fWE"
   },
   "source": [
    "**So mean account length for churn and no churn is almost same.**"
   ]
  },
  {
   "cell_type": "code",
   "execution_count": 271,
   "metadata": {
    "colab": {
     "base_uri": "https://localhost:8080/",
     "height": 296
    },
    "colab_type": "code",
    "id": "t20cbhm8Yfs8",
    "outputId": "cfaac982-2c6d-4171-9c1c-1f22d4fcf34c"
   },
   "outputs": [
    {
     "data": {
      "text/plain": [
       "<matplotlib.axes._subplots.AxesSubplot at 0x1b430588>"
      ]
     },
     "execution_count": 271,
     "metadata": {},
     "output_type": "execute_result"
    },
    {
     "data": {
      "image/png": "[encoded data removed]",
      "text/plain": [
       "<Figure size 432x288 with 1 Axes>"
      ]
     },
     "metadata": {
      "needs_background": "light"
     },
     "output_type": "display_data"
    }
   ],
   "source": [
    "sns.countplot(x='area code',hue='Churn Indicator',data=df_train)"
   ]
  },
  {
   "cell_type": "markdown",
   "metadata": {
    "colab_type": "text",
    "id": "gRaIH1z1ZF2j"
   },
   "source": [
    "**So area code also have different churns, 415 have most churns and no churns as well.**"
   ]
  },
  {
   "cell_type": "code",
   "execution_count": 272,
   "metadata": {
    "colab": {
     "base_uri": "https://localhost:8080/",
     "height": 34
    },
    "colab_type": "code",
    "id": "lWKLatxcZAlt",
    "outputId": "b25611c9-2cab-47f5-88d5-6b99cbe859be"
   },
   "outputs": [
    {
     "data": {
      "text/plain": [
       "3333"
      ]
     },
     "execution_count": 272,
     "metadata": {},
     "output_type": "execute_result"
    }
   ],
   "source": [
    "df_train['phone number'].nunique()"
   ]
  },
  {
   "cell_type": "markdown",
   "metadata": {
    "colab_type": "text",
    "id": "m-fj7oFVaIE0"
   },
   "source": [
    "**Phone number column has all unique values so we can say that it is working same as customer id.We can drop this column.**"
   ]
  },
  {
   "cell_type": "code",
   "execution_count": 273,
   "metadata": {
    "colab": {},
    "colab_type": "code",
    "id": "LM1lejDhZqyB"
   },
   "outputs": [],
   "source": [
    "df_train.drop('phone number',axis=1,inplace=True)"
   ]
  },
  {
   "cell_type": "code",
   "execution_count": 274,
   "metadata": {
    "colab": {
     "base_uri": "https://localhost:8080/",
     "height": 296
    },
    "colab_type": "code",
    "id": "eaQbshMFchRn",
    "outputId": "b0ff78cb-2040-43a0-b82e-66e546467394"
   },
   "outputs": [
    {
     "data": {
      "text/plain": [
       "<matplotlib.axes._subplots.AxesSubplot at 0x1b4a5048>"
      ]
     },
     "execution_count": 274,
     "metadata": {},
     "output_type": "execute_result"
    },
    {
     "data": {
      "image/png": "[encoded data removed]",
      "text/plain": [
       "<Figure size 432x288 with 1 Axes>"
      ]
     },
     "metadata": {
      "needs_background": "light"
     },
     "output_type": "display_data"
    }
   ],
   "source": [
    "sns.countplot(x='international plan',hue='Churn Indicator',data=df_train)"
   ]
  },
  {
   "cell_type": "markdown",
   "metadata": {
    "colab_type": "text",
    "id": "OJ2rvDcKcw3o"
   },
   "source": [
    "**Here we can say that company should improve their international plan because most of the customers who took the plan churned.So company should focus on it.**"
   ]
  },
  {
   "cell_type": "code",
   "execution_count": 275,
   "metadata": {
    "colab": {
     "base_uri": "https://localhost:8080/",
     "height": 296
    },
    "colab_type": "code",
    "id": "L1Dk6cD2cutb",
    "outputId": "6f4da3c5-2b7d-4bdd-ea10-ccc32dfde396"
   },
   "outputs": [
    {
     "data": {
      "text/plain": [
       "<matplotlib.axes._subplots.AxesSubplot at 0x1b4d7a90>"
      ]
     },
     "execution_count": 275,
     "metadata": {},
     "output_type": "execute_result"
    },
    {
     "data": {
      "image/png": "[encoded data removed]",
      "text/plain": [
       "<Figure size 432x288 with 1 Axes>"
      ]
     },
     "metadata": {
      "needs_background": "light"
     },
     "output_type": "display_data"
    }
   ],
   "source": [
    "sns.countplot(x='voice mail plan',hue='Churn Indicator',data=df_train)"
   ]
  },
  {
   "cell_type": "markdown",
   "metadata": {
    "colab_type": "text",
    "id": "HGFO_8NM7oG_"
   },
   "source": [
    "**Customers who haven't taken the voice mail plan churned most.So company should advertise their voice mail plan more.**"
   ]
  },
  {
   "cell_type": "code",
   "execution_count": 276,
   "metadata": {
    "colab": {
     "base_uri": "https://localhost:8080/",
     "height": 351
    },
    "colab_type": "code",
    "id": "S8LZZYi3rt7C",
    "outputId": "52c6aa8b-c93c-4fd5-c968-7b64197ec211"
   },
   "outputs": [
    {
     "data": {
      "text/plain": [
       "<matplotlib.axes._subplots.AxesSubplot at 0x1b3d5390>"
      ]
     },
     "execution_count": 276,
     "metadata": {},
     "output_type": "execute_result"
    },
    {
     "data": {
      "image/png": "[encoded data removed]",
      "text/plain": [
       "<Figure size 1080x360 with 1 Axes>"
      ]
     },
     "metadata": {
      "needs_background": "light"
     },
     "output_type": "display_data"
    }
   ],
   "source": [
    "plt.figure(figsize=(15,5))\n",
    "sns.countplot(x='number vmail messages',hue='Churn Indicator',data=df_train)"
   ]
  },
  {
   "cell_type": "markdown",
   "metadata": {
    "colab_type": "text",
    "id": "7q1e5Zqn6vC6"
   },
   "source": [
    "**The churn rate is higher for people who do 0 vmail messages so it can be said that they are most likely who haven't take the voice mail plan because the churn rate according to the previous plot is higher for them.This also supports the idea of advertising the voice mail plan.**"
   ]
  },
  {
   "cell_type": "code",
   "execution_count": 277,
   "metadata": {
    "colab": {
     "base_uri": "https://localhost:8080/",
     "height": 351
    },
    "colab_type": "code",
    "id": "HHZBJsiRtySc",
    "outputId": "4afeb2f2-677e-42b4-9ca2-c047d3314ab4"
   },
   "outputs": [
    {
     "data": {
      "text/plain": [
       "<matplotlib.axes._subplots.AxesSubplot at 0x1bb63e10>"
      ]
     },
     "execution_count": 277,
     "metadata": {},
     "output_type": "execute_result"
    },
    {
     "data": {
      "image/png": "[encoded data removed]",
      "text/plain": [
       "<Figure size 1080x360 with 1 Axes>"
      ]
     },
     "metadata": {
      "needs_background": "light"
     },
     "output_type": "display_data"
    }
   ],
   "source": [
    "plt.figure(figsize=(15,5))\n",
    "sns.countplot(x='number customer service calls',hue='Churn Indicator',data=df_train)"
   ]
  },
  {
   "cell_type": "markdown",
   "metadata": {
    "colab_type": "text",
    "id": "0lq8HimZ6AYf"
   },
   "source": [
    "**It is also intuitive that more the customer has to call customer care more will be churn rate.Later the feature importance plot will show that it is the most important feature contribute to churn.**"
   ]
  },
  {
   "cell_type": "code",
   "execution_count": 278,
   "metadata": {
    "colab": {
     "base_uri": "https://localhost:8080/",
     "height": 351
    },
    "colab_type": "code",
    "id": "EbBBdtlm3CqJ",
    "outputId": "80dc1f57-a93c-4d0c-c2ef-75c2badd2e8b"
   },
   "outputs": [
    {
     "data": {
      "text/plain": [
       "<matplotlib.axes._subplots.AxesSubplot at 0x1bb35160>"
      ]
     },
     "execution_count": 278,
     "metadata": {},
     "output_type": "execute_result"
    },
    {
     "data": {
      "image/png": "[encoded data removed]",
      "text/plain": [
       "<Figure size 1080x360 with 1 Axes>"
      ]
     },
     "metadata": {
      "needs_background": "light"
     },
     "output_type": "display_data"
    }
   ],
   "source": [
    "plt.figure(figsize=(15,5))\n",
    "sns.countplot(x='total intl calls',hue='Churn Indicator',data=df_train)"
   ]
  },
  {
   "cell_type": "markdown",
   "metadata": {
    "colab_type": "text",
    "id": "KEcH42pR48Ss"
   },
   "source": [
    "**It is also to observe that most churned customers are the people who does 2 or 3 international calls then as the number grows churn decreases.**"
   ]
  },
  {
   "cell_type": "code",
   "execution_count": 279,
   "metadata": {
    "colab": {
     "base_uri": "https://localhost:8080/",
     "height": 151
    },
    "colab_type": "code",
    "id": "L5fLdlxKfttB",
    "outputId": "9010133e-9b4b-4c59-d3f7-9d7c3030f9d7"
   },
   "outputs": [
    {
     "data": {
      "text/plain": [
       "Index(['state', 'account length', 'area code', 'international plan',\n",
       "       'voice mail plan', 'number vmail messages', 'total day minutes',\n",
       "       'total day calls', 'total day charge', 'total eve minutes',\n",
       "       'total eve calls', 'total eve charge', 'total night minutes',\n",
       "       'total night calls', 'total night charge', 'total intl minutes',\n",
       "       'total intl calls', 'total intl charge',\n",
       "       'number customer service calls', 'Churn Indicator'],\n",
       "      dtype='object')"
      ]
     },
     "execution_count": 279,
     "metadata": {},
     "output_type": "execute_result"
    }
   ],
   "source": [
    "df_train.columns"
   ]
  },
  {
   "cell_type": "code",
   "execution_count": 280,
   "metadata": {
    "colab": {},
    "colab_type": "code",
    "id": "-2Codh_7_pum"
   },
   "outputs": [],
   "source": [
    "X_ft = df_train.iloc[:,:19]\n",
    "y_ft = df_train.iloc[:,-1] # these are taken to plot the feature importance "
   ]
  },
  {
   "cell_type": "markdown",
   "metadata": {
    "colab_type": "text",
    "id": "ru23MEES-tr_"
   },
   "source": [
    "**So,other features in case of count plot is not giving much intuitive results so we can observe the distribution of various numeric features.**"
   ]
  },
  {
   "cell_type": "code",
   "execution_count": 281,
   "metadata": {
    "colab": {
     "base_uri": "https://localhost:8080/",
     "height": 351
    },
    "colab_type": "code",
    "id": "P8GSg_mwgo4o",
    "outputId": "bf014776-9bfa-4e9f-b4f0-1f297ad21438"
   },
   "outputs": [
    {
     "data": {
      "text/plain": [
       "<matplotlib.axes._subplots.AxesSubplot at 0x1805f5f8>"
      ]
     },
     "execution_count": 281,
     "metadata": {},
     "output_type": "execute_result"
    },
    {
     "data": {
      "image/png": "[encoded data removed]",
      "text/plain": [
       "<Figure size 1080x360 with 1 Axes>"
      ]
     },
     "metadata": {
      "needs_background": "light"
     },
     "output_type": "display_data"
    }
   ],
   "source": [
    "plt.figure(figsize=(15,5))\n",
    "sns.boxplot(x='number customer service calls',data=df_train)"
   ]
  },
  {
   "cell_type": "markdown",
   "metadata": {
    "colab_type": "text",
    "id": "hd_yfVVZhhzG"
   },
   "source": [
    "**This feature contains outliers but most of them are labeled as churned so it shouldn't be removed as we already have an imbalnced dataset,removal of them will make it more imbalance and the model will be biased towards the no churned label.Later feature importance plot also shows that it is the most important feature among all.So it should be remained as it is.**"
   ]
  },
  {
   "cell_type": "code",
   "execution_count": 282,
   "metadata": {
    "colab": {
     "base_uri": "https://localhost:8080/",
     "height": 351
    },
    "colab_type": "code",
    "id": "aapFBIpZgZpA",
    "outputId": "fac7d52c-f7b9-46ed-98d4-dbddf1ab57c6"
   },
   "outputs": [
    {
     "data": {
      "text/plain": [
       "<matplotlib.axes._subplots.AxesSubplot at 0x1bc81c50>"
      ]
     },
     "execution_count": 282,
     "metadata": {},
     "output_type": "execute_result"
    },
    {
     "data": {
      "image/png": "[encoded data removed]",
      "text/plain": [
       "<Figure size 1080x360 with 1 Axes>"
      ]
     },
     "metadata": {
      "needs_background": "light"
     },
     "output_type": "display_data"
    }
   ],
   "source": [
    "plt.figure(figsize=(15,5))\n",
    "sns.boxplot(x='number vmail messages',data=df_train)"
   ]
  },
  {
   "cell_type": "code",
   "execution_count": 283,
   "metadata": {
    "colab": {
     "base_uri": "https://localhost:8080/",
     "height": 351
    },
    "colab_type": "code",
    "id": "ZJp6DumGf2ZE",
    "outputId": "1c913bb6-5c41-44d2-f7ec-848a4044dd0d"
   },
   "outputs": [
    {
     "data": {
      "text/plain": [
       "<matplotlib.axes._subplots.AxesSubplot at 0x1beda860>"
      ]
     },
     "execution_count": 283,
     "metadata": {},
     "output_type": "execute_result"
    },
    {
     "data": {
      "image/png": "[encoded data removed]",
      "text/plain": [
       "<Figure size 1080x360 with 1 Axes>"
      ]
     },
     "metadata": {
      "needs_background": "light"
     },
     "output_type": "display_data"
    }
   ],
   "source": [
    "plt.figure(figsize=(15,5))\n",
    "sns.boxplot(x='account length',data=df_train)"
   ]
  },
  {
   "cell_type": "markdown",
   "metadata": {
    "colab_type": "text",
    "id": "weMf8gb7jXhx"
   },
   "source": [
    "**Above two plots also contain outliers but it is near to max value so this won't affect the model much.**"
   ]
  },
  {
   "cell_type": "code",
   "execution_count": 284,
   "metadata": {
    "colab": {
     "base_uri": "https://localhost:8080/",
     "height": 351
    },
    "colab_type": "code",
    "id": "vOpf9mYj3pBN",
    "outputId": "cc194a85-d3f6-4adb-9aaa-145637dadb09"
   },
   "outputs": [
    {
     "data": {
      "text/plain": [
       "<matplotlib.axes._subplots.AxesSubplot at 0x1bf2c470>"
      ]
     },
     "execution_count": 284,
     "metadata": {},
     "output_type": "execute_result"
    },
    {
     "data": {
      "image/png": "[encoded data removed]",
      "text/plain": [
       "<Figure size 1080x360 with 1 Axes>"
      ]
     },
     "metadata": {
      "needs_background": "light"
     },
     "output_type": "display_data"
    }
   ],
   "source": [
    "plt.figure(figsize=(15,5))\n",
    "sns.boxplot(x='total day minutes',data=df_train)"
   ]
  },
  {
   "cell_type": "code",
   "execution_count": 285,
   "metadata": {
    "colab": {
     "base_uri": "https://localhost:8080/",
     "height": 351
    },
    "colab_type": "code",
    "id": "i9pN3KQc34rG",
    "outputId": "beb8f53f-fa20-46df-a0ee-d6a0b418f675"
   },
   "outputs": [
    {
     "data": {
      "text/plain": [
       "<matplotlib.axes._subplots.AxesSubplot at 0x1bf85ba8>"
      ]
     },
     "execution_count": 285,
     "metadata": {},
     "output_type": "execute_result"
    },
    {
     "data": {
      "image/png": "[encoded data removed]",
      "text/plain": [
       "<Figure size 1080x360 with 1 Axes>"
      ]
     },
     "metadata": {
      "needs_background": "light"
     },
     "output_type": "display_data"
    }
   ],
   "source": [
    "plt.figure(figsize=(15,5))\n",
    "sns.boxplot(x='total day calls',data=df_train)"
   ]
  },
  {
   "cell_type": "code",
   "execution_count": 286,
   "metadata": {
    "colab": {
     "base_uri": "https://localhost:8080/",
     "height": 351
    },
    "colab_type": "code",
    "id": "N7hYaUTKj-Hk",
    "outputId": "40d16419-ffd0-419a-c2e0-ae0949462e0c"
   },
   "outputs": [
    {
     "data": {
      "text/plain": [
       "<matplotlib.axes._subplots.AxesSubplot at 0x1bfdf320>"
      ]
     },
     "execution_count": 286,
     "metadata": {},
     "output_type": "execute_result"
    },
    {
     "data": {
      "image/png": "[encoded data removed]",
      "text/plain": [
       "<Figure size 1080x360 with 1 Axes>"
      ]
     },
     "metadata": {
      "needs_background": "light"
     },
     "output_type": "display_data"
    }
   ],
   "source": [
    "plt.figure(figsize=(15,5))\n",
    "sns.boxplot(x='total day charge',data=df_train)"
   ]
  },
  {
   "cell_type": "code",
   "execution_count": 287,
   "metadata": {
    "colab": {
     "base_uri": "https://localhost:8080/",
     "height": 351
    },
    "colab_type": "code",
    "id": "d4zSXyVZvSBN",
    "outputId": "c2c2d72f-5d9d-4a03-8bc7-dc61ee0a92a7"
   },
   "outputs": [
    {
     "data": {
      "text/plain": [
       "<matplotlib.axes._subplots.AxesSubplot at 0x1c38a550>"
      ]
     },
     "execution_count": 287,
     "metadata": {},
     "output_type": "execute_result"
    },
    {
     "data": {
      "image/png": "[encoded data removed]",
      "text/plain": [
       "<Figure size 1080x360 with 1 Axes>"
      ]
     },
     "metadata": {
      "needs_background": "light"
     },
     "output_type": "display_data"
    }
   ],
   "source": [
    "plt.figure(figsize=(15,5))\n",
    "sns.boxplot(x='total night minutes',data=df_train)"
   ]
  },
  {
   "cell_type": "code",
   "execution_count": 288,
   "metadata": {
    "colab": {
     "base_uri": "https://localhost:8080/",
     "height": 351
    },
    "colab_type": "code",
    "id": "OPd_8GWGvcWQ",
    "outputId": "f9406b50-826f-4190-d5fd-37f6b31e5a52"
   },
   "outputs": [
    {
     "data": {
      "text/plain": [
       "<matplotlib.axes._subplots.AxesSubplot at 0x1d922c18>"
      ]
     },
     "execution_count": 288,
     "metadata": {},
     "output_type": "execute_result"
    },
    {
     "data": {
      "image/png": "[encoded data removed]",
      "text/plain": [
       "<Figure size 1080x360 with 1 Axes>"
      ]
     },
     "metadata": {
      "needs_background": "light"
     },
     "output_type": "display_data"
    }
   ],
   "source": [
    "plt.figure(figsize=(15,5))\n",
    "sns.boxplot(x='total night calls',data=df_train)"
   ]
  },
  {
   "cell_type": "code",
   "execution_count": 289,
   "metadata": {
    "colab": {
     "base_uri": "https://localhost:8080/",
     "height": 351
    },
    "colab_type": "code",
    "id": "qCSMRxkkvmB6",
    "outputId": "06d7743e-82a0-469c-a1f4-8e80350b6ab2"
   },
   "outputs": [
    {
     "data": {
      "text/plain": [
       "<matplotlib.axes._subplots.AxesSubplot at 0x1d94e4e0>"
      ]
     },
     "execution_count": 289,
     "metadata": {},
     "output_type": "execute_result"
    },
    {
     "data": {
      "image/png": "[encoded data removed]",
      "text/plain": [
       "<Figure size 1080x360 with 1 Axes>"
      ]
     },
     "metadata": {
      "needs_background": "light"
     },
     "output_type": "display_data"
    }
   ],
   "source": [
    "plt.figure(figsize=(15,5))\n",
    "sns.boxplot(x='total night charge',data=df_train)"
   ]
  },
  {
   "cell_type": "code",
   "execution_count": 290,
   "metadata": {
    "colab": {
     "base_uri": "https://localhost:8080/",
     "height": 351
    },
    "colab_type": "code",
    "id": "QyZ-xZgNwV5b",
    "outputId": "1f954862-ceaa-4495-f570-d20bac0dcc20"
   },
   "outputs": [
    {
     "data": {
      "text/plain": [
       "<matplotlib.axes._subplots.AxesSubplot at 0x1dc305c0>"
      ]
     },
     "execution_count": 290,
     "metadata": {},
     "output_type": "execute_result"
    },
    {
     "data": {
      "image/png": "[encoded data removed]",
      "text/plain": [
       "<Figure size 1080x360 with 1 Axes>"
      ]
     },
     "metadata": {
      "needs_background": "light"
     },
     "output_type": "display_data"
    }
   ],
   "source": [
    "plt.figure(figsize=(15,5))\n",
    "sns.boxplot(x='total intl minutes',data=df_train)"
   ]
  },
  {
   "cell_type": "code",
   "execution_count": 291,
   "metadata": {
    "colab": {
     "base_uri": "https://localhost:8080/",
     "height": 351
    },
    "colab_type": "code",
    "id": "yjXngPvrwdK_",
    "outputId": "b7300cc1-160f-42f9-a8fd-381a0f69b5d4"
   },
   "outputs": [
    {
     "data": {
      "text/plain": [
       "<matplotlib.axes._subplots.AxesSubplot at 0x1dc8db38>"
      ]
     },
     "execution_count": 291,
     "metadata": {},
     "output_type": "execute_result"
    },
    {
     "data": {
      "image/png": "[encoded data removed]",
      "text/plain": [
       "<Figure size 1080x360 with 1 Axes>"
      ]
     },
     "metadata": {
      "needs_background": "light"
     },
     "output_type": "display_data"
    }
   ],
   "source": [
    "plt.figure(figsize=(15,5))\n",
    "sns.boxplot(x='total intl charge',data=df_train)"
   ]
  },
  {
   "cell_type": "markdown",
   "metadata": {
    "colab_type": "text",
    "id": "JbComJcV_knM"
   },
   "source": [
    "**From the above boxplots we can say that these features contain outliers which are very far from the median or max value of the feature.So these outliers should be removed.**"
   ]
  },
  {
   "cell_type": "code",
   "execution_count": 292,
   "metadata": {
    "colab": {
     "base_uri": "https://localhost:8080/",
     "height": 351
    },
    "colab_type": "code",
    "id": "V_LUbOPvwArC",
    "outputId": "98c35a7e-a817-48d6-fd21-e9ff48f45d73"
   },
   "outputs": [
    {
     "data": {
      "text/plain": [
       "<matplotlib.axes._subplots.AxesSubplot at 0x1dcd9588>"
      ]
     },
     "execution_count": 292,
     "metadata": {},
     "output_type": "execute_result"
    },
    {
     "data": {
      "image/png": "[encoded data removed]",
      "text/plain": [
       "<Figure size 1080x360 with 1 Axes>"
      ]
     },
     "metadata": {
      "needs_background": "light"
     },
     "output_type": "display_data"
    }
   ],
   "source": [
    "plt.figure(figsize=(15,5))\n",
    "sns.boxplot(x='total intl calls',data=df_train)"
   ]
  },
  {
   "cell_type": "code",
   "execution_count": 293,
   "metadata": {
    "colab": {
     "base_uri": "https://localhost:8080/",
     "height": 351
    },
    "colab_type": "code",
    "id": "R4IKueDDw4xv",
    "outputId": "10148ad6-9a8e-4605-8116-14efb0d61082"
   },
   "outputs": [
    {
     "data": {
      "text/plain": [
       "<matplotlib.axes._subplots.AxesSubplot at 0x1dd2d2e8>"
      ]
     },
     "execution_count": 293,
     "metadata": {},
     "output_type": "execute_result"
    },
    {
     "data": {
      "image/png": "[encoded data removed]",
      "text/plain": [
       "<Figure size 1080x360 with 1 Axes>"
      ]
     },
     "metadata": {
      "needs_background": "light"
     },
     "output_type": "display_data"
    }
   ],
   "source": [
    "plt.figure(figsize=(15,5))\n",
    "sns.countplot(x='total intl calls',hue='Churn Indicator',data=df_train)"
   ]
  },
  {
   "cell_type": "markdown",
   "metadata": {
    "colab_type": "text",
    "id": "D_k5Wpr8woD5"
   },
   "source": [
    "**So from the above two plots we can say that for 'total intl calls' column, most churned are in 2 or 3 call range so we can remove outliers.It won't affect the model that much.**"
   ]
  },
  {
   "cell_type": "markdown",
   "metadata": {
    "colab_type": "text",
    "id": "I2Lciel9BSI3"
   },
   "source": [
    "# **Dealing with Outliers**"
   ]
  },
  {
   "cell_type": "markdown",
   "metadata": {
    "colab_type": "text",
    "id": "yNU5SxxlBgUh"
   },
   "source": [
    "### IQR range of different numeric columns"
   ]
  },
  {
   "cell_type": "code",
   "execution_count": 294,
   "metadata": {
    "colab": {
     "base_uri": "https://localhost:8080/",
     "height": 235
    },
    "colab_type": "code",
    "id": "An-GqB_f_ew1",
    "outputId": "ccdd859d-0db0-4d75-e124-7f1bd4816cc6"
   },
   "outputs": [
    {
     "name": "stdout",
     "output_type": "stream",
     "text": [
      "total day minutes      72.90\n",
      "total day calls        27.00\n",
      "total day charge       12.41\n",
      "total eve minutes      68.70\n",
      "total eve calls        27.00\n",
      "total eve charge        5.84\n",
      "total night minutes    68.30\n",
      "total night calls      26.00\n",
      "total night charge      3.07\n",
      "total intl minutes      3.60\n",
      "total intl calls        3.00\n",
      "total intl charge       0.97\n",
      "dtype: float64\n"
     ]
    }
   ],
   "source": [
    "Q1_train = df_train.iloc[:,6:18].quantile(0.25)\n",
    "Q3_train = df_train.iloc[:,6:18].quantile(0.75)\n",
    "IQR_train = Q3_train - Q1_train\n",
    "print(IQR_train)"
   ]
  },
  {
   "cell_type": "markdown",
   "metadata": {
    "colab_type": "text",
    "id": "kbfgTdBDBOy2"
   },
   "source": [
    "### Number of Outliers in columns"
   ]
  },
  {
   "cell_type": "code",
   "execution_count": 295,
   "metadata": {
    "colab": {
     "base_uri": "https://localhost:8080/",
     "height": 370
    },
    "colab_type": "code",
    "id": "F1f3vI1QASK-",
    "outputId": "ce076f72-6c2a-475c-e89f-ac2ad56f9cbb"
   },
   "outputs": [
    {
     "data": {
      "text/plain": [
       "state                             0\n",
       "account length                    0\n",
       "area code                         0\n",
       "international plan                0\n",
       "voice mail plan                   0\n",
       "number vmail messages             0\n",
       "total day minutes                27\n",
       "total day calls                  25\n",
       "total day charge                 29\n",
       "total eve minutes                24\n",
       "total eve calls                  21\n",
       "total eve charge                 25\n",
       "total night minutes              31\n",
       "total night calls                23\n",
       "total night charge               31\n",
       "total intl minutes               48\n",
       "total intl calls                 79\n",
       "total intl charge                50\n",
       "number customer service calls     0\n",
       "Churn Indicator                   0\n",
       "dtype: int64"
      ]
     },
     "execution_count": 295,
     "metadata": {},
     "output_type": "execute_result"
    }
   ],
   "source": [
    "df_train[(df_train.iloc[:,6:18] < (Q1_train - 1.5 * IQR_train)) | (df_train.iloc[:,6:18] > (Q3_train + 1.5 * IQR_train))].notnull().sum()"
   ]
  },
  {
   "cell_type": "code",
   "execution_count": 296,
   "metadata": {
    "colab": {
     "base_uri": "https://localhost:8080/",
     "height": 496
    },
    "colab_type": "code",
    "id": "Suo_ImvgBEUT",
    "outputId": "7b29336b-b5fd-40b3-8027-585b61d7b886"
   },
   "outputs": [
    {
     "data": {
      "text/plain": [
       "Text(0.5, 1.0, 'train')"
      ]
     },
     "execution_count": 296,
     "metadata": {},
     "output_type": "execute_result"
    },
    {
     "data": {
      "image/png": "[encoded data removed]",
      "text/plain": [
       "<Figure size 864x360 with 1 Axes>"
      ]
     },
     "metadata": {
      "needs_background": "light"
     },
     "output_type": "display_data"
    }
   ],
   "source": [
    "fig = plt.figure(figsize=(12,5))\n",
    "df_train[(df_train.iloc[:,6:18] < (Q1_train - 1.5 * IQR_train)) | (df_train.iloc[:,6:18] > (Q3_train + 1.5 * IQR_train))].notnull().sum().plot(kind='bar')\n",
    "plt.title('train')"
   ]
  },
  {
   "cell_type": "markdown",
   "metadata": {
    "colab_type": "text",
    "id": "AMNFimMnJIgz"
   },
   "source": [
    "### Removal of Outliers"
   ]
  },
  {
   "cell_type": "code",
   "execution_count": 297,
   "metadata": {
    "colab": {},
    "colab_type": "code",
    "id": "btrWun-mB7-K"
   },
   "outputs": [],
   "source": [
    "df_train = df_train[~((df_train.iloc[:,6:18] < (Q1_train - 1.5 * IQR_train)) |(df_train.iloc[:,6:18] > (Q3_train + 1.5 * IQR_train))).any(axis=1)]"
   ]
  },
  {
   "cell_type": "code",
   "execution_count": 298,
   "metadata": {
    "colab": {
     "base_uri": "https://localhost:8080/",
     "height": 370
    },
    "colab_type": "code",
    "id": "AhdR7hBaJRip",
    "outputId": "e7de8e6a-5f89-4d83-f93a-b761b297a4d2"
   },
   "outputs": [
    {
     "data": {
      "text/plain": [
       "state                            0\n",
       "account length                   0\n",
       "area code                        0\n",
       "international plan               0\n",
       "voice mail plan                  0\n",
       "number vmail messages            0\n",
       "total day minutes                0\n",
       "total day calls                  0\n",
       "total day charge                 0\n",
       "total eve minutes                0\n",
       "total eve calls                  0\n",
       "total eve charge                 0\n",
       "total night minutes              0\n",
       "total night calls                0\n",
       "total night charge               0\n",
       "total intl minutes               0\n",
       "total intl calls                 0\n",
       "total intl charge                0\n",
       "number customer service calls    0\n",
       "Churn Indicator                  0\n",
       "dtype: int64"
      ]
     },
     "execution_count": 298,
     "metadata": {},
     "output_type": "execute_result"
    }
   ],
   "source": [
    "df_train[(df_train.iloc[:,6:18] < (Q1_train - 1.5 * IQR_train)) | (df_train.iloc[:,6:18] > (Q3_train + 1.5 * IQR_train))].notnull().sum()"
   ]
  },
  {
   "cell_type": "markdown",
   "metadata": {
    "colab_type": "text",
    "id": "XWcWaCfTJdSF"
   },
   "source": [
    "**Now the outliers are dropped.**"
   ]
  },
  {
   "cell_type": "code",
   "execution_count": 299,
   "metadata": {
    "colab": {
     "base_uri": "https://localhost:8080/",
     "height": 34
    },
    "colab_type": "code",
    "id": "Z3GEF90TJVSk",
    "outputId": "4fc017e2-137b-4f5b-ae0e-0ee1eea387b1"
   },
   "outputs": [
    {
     "data": {
      "text/plain": [
       "(3066, 20)"
      ]
     },
     "execution_count": 299,
     "metadata": {},
     "output_type": "execute_result"
    }
   ],
   "source": [
    "df_train.shape"
   ]
  },
  {
   "cell_type": "code",
   "execution_count": 300,
   "metadata": {
    "colab": {
     "base_uri": "https://localhost:8080/",
     "height": 34
    },
    "colab_type": "code",
    "id": "n-Dba8oYJtA3",
    "outputId": "6cf8de56-a50e-435d-95cd-6ed4c87543fe"
   },
   "outputs": [
    {
     "data": {
      "text/plain": [
       "(1672, 21)"
      ]
     },
     "execution_count": 300,
     "metadata": {},
     "output_type": "execute_result"
    }
   ],
   "source": [
    "df_test.shape"
   ]
  },
  {
   "cell_type": "code",
   "execution_count": 301,
   "metadata": {
    "colab": {
     "base_uri": "https://localhost:8080/",
     "height": 67
    },
    "colab_type": "code",
    "id": "8Sq6riiDJwH7",
    "outputId": "17a03fb6-3250-4a64-dc24-ae57013c817d"
   },
   "outputs": [
    {
     "data": {
      "text/plain": [
       " False.    0.851598\n",
       " True.     0.148402\n",
       "Name: Churn Indicator, dtype: float64"
      ]
     },
     "execution_count": 301,
     "metadata": {},
     "output_type": "execute_result"
    }
   ],
   "source": [
    "df_train['Churn Indicator'].value_counts(normalize =True)"
   ]
  },
  {
   "cell_type": "code",
   "execution_count": 302,
   "metadata": {
    "colab": {
     "base_uri": "https://localhost:8080/",
     "height": 756
    },
    "colab_type": "code",
    "id": "xrWi2ySjKPpa",
    "outputId": "eac471eb-77e8-4d63-9440-708a3f82be5f"
   },
   "outputs": [
    {
     "data": {
      "text/plain": [
       "<matplotlib.axes._subplots.AxesSubplot at 0x1df3f828>"
      ]
     },
     "execution_count": 302,
     "metadata": {},
     "output_type": "execute_result"
    },
    {
     "data": {
      "image/png": "[encoded data removed]",
      "text/plain": [
       "<Figure size 1080x720 with 2 Axes>"
      ]
     },
     "metadata": {
      "needs_background": "light"
     },
     "output_type": "display_data"
    }
   ],
   "source": [
    "plt.figure(figsize=(15,10))\n",
    "sns.heatmap(df_train.corr(),annot=True)"
   ]
  },
  {
   "cell_type": "markdown",
   "metadata": {
    "colab_type": "text",
    "id": "J0mQuNagMaTm"
   },
   "source": [
    "**From the above heatmap it is seen that many of the features are highly correlated this can affect the stability of our model so following data transformations are done.**"
   ]
  },
  {
   "cell_type": "markdown",
   "metadata": {
    "colab_type": "text",
    "id": "1CifWg77NlGZ"
   },
   "source": [
    "## **Data Transformation**"
   ]
  },
  {
   "cell_type": "markdown",
   "metadata": {
    "colab_type": "text",
    "id": "nKY9CjsizVzz"
   },
   "source": [
    "**For Training set**"
   ]
  },
  {
   "cell_type": "code",
   "execution_count": 303,
   "metadata": {
    "colab": {},
    "colab_type": "code",
    "id": "DmG8rnhCLxzN"
   },
   "outputs": [],
   "source": [
    "df_train['total_min'] = df_train['total day minutes']+df_train['total eve minutes']+df_train['total night minutes']\n",
    "df_train.drop(['total day minutes','total eve minutes','total night minutes'],axis=1,inplace=True)\n",
    "df_train['total_calls'] = df_train['total day calls']+df_train['total eve calls']+df_train['total night calls']\n",
    "df_train.drop(['total day calls','total eve calls','total night calls'],axis=1,inplace=True)\n",
    "df_train['total_charge'] = df_train['total day charge']+df_train['total eve charge']+df_train['total night charge']\n",
    "df_train.drop(['total day charge','total eve charge','total night charge'],axis=1,inplace=True)"
   ]
  },
  {
   "cell_type": "code",
   "execution_count": 304,
   "metadata": {
    "colab": {
     "base_uri": "https://localhost:8080/",
     "height": 34
    },
    "colab_type": "code",
    "id": "ggJjOLgtN5BO",
    "outputId": "3c4fbbe7-af0e-4f3f-e367-34b382db7b99"
   },
   "outputs": [
    {
     "data": {
      "text/plain": [
       "(3066, 14)"
      ]
     },
     "execution_count": 304,
     "metadata": {},
     "output_type": "execute_result"
    }
   ],
   "source": [
    "df_train.shape"
   ]
  },
  {
   "cell_type": "markdown",
   "metadata": {
    "colab_type": "text",
    "id": "J8ww7ha_zbTx"
   },
   "source": [
    "**For Test set**"
   ]
  },
  {
   "cell_type": "code",
   "execution_count": 305,
   "metadata": {
    "colab": {},
    "colab_type": "code",
    "id": "5JUXbjiXN9uj"
   },
   "outputs": [],
   "source": [
    "df_test['total_min'] = df_test['total day minutes']+df_test['total eve minutes']+df_test['total night minutes']\n",
    "df_test.drop(['total day minutes','total eve minutes','total night minutes'],axis=1,inplace=True)\n",
    "df_test['total_calls'] = df_test['total day calls']+df_test['total eve calls']+df_test['total night calls']\n",
    "df_test.drop(['total day calls','total eve calls','total night calls'],axis=1,inplace=True)\n",
    "df_test['total_charge'] = df_test['total day charge']+df_test['total eve charge']+df_test['total night charge']\n",
    "df_test.drop(['total day charge','total eve charge','total night charge'],axis=1,inplace=True)"
   ]
  },
  {
   "cell_type": "code",
   "execution_count": 306,
   "metadata": {
    "colab": {
     "base_uri": "https://localhost:8080/",
     "height": 34
    },
    "colab_type": "code",
    "id": "Oh4yY6MVOPNx",
    "outputId": "379a6f7e-b9d3-460d-c9ac-77726b5c87c8"
   },
   "outputs": [
    {
     "data": {
      "text/plain": [
       "(1672, 15)"
      ]
     },
     "execution_count": 306,
     "metadata": {},
     "output_type": "execute_result"
    }
   ],
   "source": [
    "df_test.shape"
   ]
  },
  {
   "cell_type": "code",
   "execution_count": 307,
   "metadata": {
    "colab": {
     "base_uri": "https://localhost:8080/",
     "height": 118
    },
    "colab_type": "code",
    "id": "ttl4UmwoOR7N",
    "outputId": "78f994cd-a2c3-489c-9c57-1a140deb9b97"
   },
   "outputs": [
    {
     "data": {
      "text/plain": [
       "Index(['state', 'account length', 'area code', 'phone number',\n",
       "       'international plan', 'voice mail plan', 'number vmail messages',\n",
       "       'total intl minutes', 'total intl calls', 'total intl charge',\n",
       "       'number customer service calls', 'Churn Indicator', 'total_min',\n",
       "       'total_calls', 'total_charge'],\n",
       "      dtype='object')"
      ]
     },
     "execution_count": 307,
     "metadata": {},
     "output_type": "execute_result"
    }
   ],
   "source": [
    "df_test.columns"
   ]
  },
  {
   "cell_type": "code",
   "execution_count": 308,
   "metadata": {
    "colab": {},
    "colab_type": "code",
    "id": "HN_C3Y-TOWJj"
   },
   "outputs": [],
   "source": [
    "mobile = df_test['phone number']\n",
    "df_test.drop('phone number',axis=1,inplace=True)"
   ]
  },
  {
   "cell_type": "code",
   "execution_count": 309,
   "metadata": {
    "colab": {
     "base_uri": "https://localhost:8080/",
     "height": 218
    },
    "colab_type": "code",
    "id": "c_EyjH4sOjFT",
    "outputId": "3dc66c2e-b935-42ee-b39c-528ba9e2f45f"
   },
   "outputs": [
    {
     "data": {
      "text/plain": [
       "0        354-8814\n",
       "1        381-7210\n",
       "2        411-9480\n",
       "3        418-9103\n",
       "4        413-3646\n",
       "5        375-6186\n",
       "6        348-8070\n",
       "7        359-9880\n",
       "8        353-6954\n",
       "9        403-4933\n",
       "10       360-3811\n",
       "11       353-1755\n",
       "12       372-8233\n",
       "13       371-5951\n",
       "14       381-5937\n",
       "15       357-1784\n",
       "16       350-8209\n",
       "17       400-5627\n",
       "18       391-3827\n",
       "19       365-4330\n",
       "20       328-6124\n",
       "21       328-1642\n",
       "22       419-9753\n",
       "23       413-5754\n",
       "24       373-8390\n",
       "25       359-5139\n",
       "26       359-8799\n",
       "27       416-8332\n",
       "28       350-4349\n",
       "29       369-6937\n",
       "          ...    \n",
       "1642     354-8815\n",
       "1643     381-7211\n",
       "1644     411-9481\n",
       "1645     418-9100\n",
       "1646     413-3643\n",
       "1647     375-6180\n",
       "1648     348-8073\n",
       "1649     359-9881\n",
       "1650     397-4475\n",
       "1651     407-6315\n",
       "1652     364-8203\n",
       "1653     410-3888\n",
       "1654     355-3630\n",
       "1655     411-9655\n",
       "1656     417-1886\n",
       "1657     365-8751\n",
       "1658     334-9736\n",
       "1659     398-3190\n",
       "1660     386-3542\n",
       "1661     328-6797\n",
       "1662     357-2431\n",
       "1663     344-2491\n",
       "1664     395-1013\n",
       "1665     377-6134\n",
       "1666     367-1324\n",
       "1667     395-3867\n",
       "1668     391-5977\n",
       "1669     403-2223\n",
       "1670     420-7243\n",
       "1671     408-1869\n",
       "Name: phone number, Length: 1672, dtype: object"
      ]
     },
     "execution_count": 309,
     "metadata": {},
     "output_type": "execute_result"
    }
   ],
   "source": [
    "mobile # this can be used as customer id for churn probability risk prediction"
   ]
  },
  {
   "cell_type": "code",
   "execution_count": 310,
   "metadata": {
    "colab": {
     "base_uri": "https://localhost:8080/",
     "height": 756
    },
    "colab_type": "code",
    "id": "waGoiU00Okk-",
    "outputId": "650d04bb-0425-46b4-d2c3-afc84712ec38"
   },
   "outputs": [
    {
     "data": {
      "text/plain": [
       "<matplotlib.axes._subplots.AxesSubplot at 0x1ea909e8>"
      ]
     },
     "execution_count": 310,
     "metadata": {},
     "output_type": "execute_result"
    },
    {
     "data": {
      "image/png": "[encoded data removed]",
      "text/plain": [
       "<Figure size 1080x720 with 2 Axes>"
      ]
     },
     "metadata": {
      "needs_background": "light"
     },
     "output_type": "display_data"
    }
   ],
   "source": [
    "plt.figure(figsize=(15,10))\n",
    "sns.heatmap(df_train.corr(),annot=True)"
   ]
  },
  {
   "cell_type": "markdown",
   "metadata": {
    "colab_type": "text",
    "id": "sh0Ek7eXzm9F"
   },
   "source": [
    "**Now the number of correlated columns is reduced.** "
   ]
  },
  {
   "cell_type": "markdown",
   "metadata": {
    "colab_type": "text",
    "id": "ao2a9-FKz_Yv"
   },
   "source": [
    "### **Label Encoding**"
   ]
  },
  {
   "cell_type": "code",
   "execution_count": 311,
   "metadata": {
    "colab": {},
    "colab_type": "code",
    "id": "vMXcNkhMQjBj"
   },
   "outputs": [],
   "source": [
    "from sklearn.preprocessing import LabelEncoder\n",
    "le = LabelEncoder()\n",
    "df_train['state'] = le.fit_transform(df_train['state'])\n",
    "df_train['international plan'] = df_train['international plan'].apply(lambda x: 0 if x==' no' else 1)\n",
    "df_train['voice mail plan'] = df_train['voice mail plan'].apply(lambda x: 0 if x==' no' else 1)\n",
    "df_train['Churn Indicator'] = df_train['Churn Indicator'].apply(lambda x: 0 if x==' False.' else 1)\n",
    "\n",
    "df_test['state'] = le.fit_transform(df_test['state'])\n",
    "df_test['international plan'] = df_test['international plan'].apply(lambda x: 0 if x==' no' else 1)\n",
    "df_test['voice mail plan'] = df_test['voice mail plan'].apply(lambda x: 0 if x==' no' else 1)\n",
    "df_test['Churn Indicator'] = df_test['Churn Indicator'].apply(lambda x: 0 if x==' False.' else 1)"
   ]
  },
  {
   "cell_type": "code",
   "execution_count": 312,
   "metadata": {},
   "outputs": [],
   "source": [
    "from sklearn.model_selection import train_test_split\n",
    "from imblearn.over_sampling import RandomOverSampler\n",
    "\n",
    "y_train = df_train['Churn Indicator']\n",
    "df_train.drop('Churn Indicator',axis =1, inplace =True)\n",
    "\n",
    "ros = RandomOverSampler(sampling_strategy='auto')\n",
    "new_X_train,new_y_train = ros.fit_sample(df_train,y_train)\n",
    "\n",
    "X_train,X_val,y_train,y_val = train_test_split(new_X_train,new_y_train,test_size = 0.3,random_state = 42)"
   ]
  },
  {
   "cell_type": "code",
   "execution_count": 313,
   "metadata": {},
   "outputs": [],
   "source": [
    "from sklearn.preprocessing import StandardScaler\n",
    "scaler=StandardScaler()\n",
    "\n",
    "X_train=scaler.fit_transform(X_train)\n",
    "X_val=scaler.transform(X_val)"
   ]
  },
  {
   "cell_type": "markdown",
   "metadata": {},
   "source": [
    "### Test Dataset"
   ]
  },
  {
   "cell_type": "code",
   "execution_count": 315,
   "metadata": {
    "colab": {},
    "colab_type": "code",
    "id": "41oQTk9ER1D2"
   },
   "outputs": [],
   "source": [
    "y_test = df_test['Churn Indicator']\n",
    "df_test.drop('Churn Indicator',axis=1,inplace=True)"
   ]
  },
  {
   "cell_type": "code",
   "execution_count": 316,
   "metadata": {},
   "outputs": [],
   "source": [
    "#scalling the test data\n",
    "X_test = scaler.transform(df_test)"
   ]
  },
  {
   "cell_type": "markdown",
   "metadata": {
    "colab_type": "text",
    "id": "avIp4owxSmQ3"
   },
   "source": [
    "## SMOTE for oversampling\n",
    "This is done to handle the imbalanceness of the dataset. "
   ]
  },
  {
   "cell_type": "code",
   "execution_count": 317,
   "metadata": {
    "colab": {
     "base_uri": "https://localhost:8080/",
     "height": 205
    },
    "colab_type": "code",
    "id": "NZwKz86aSlU0",
    "outputId": "50554e3e-bd2a-4236-bf34-ad870664174b"
   },
   "outputs": [
    {
     "name": "stdout",
     "output_type": "stream",
     "text": [
      "Before OverSampling, counts of label '1': 1826\n",
      "Before OverSampling, counts of label '0': 1829 \n",
      "\n",
      "After OverSampling, the shape of train_X: (3658, 13)\n",
      "After OverSampling, the shape of train_y: (3658,) \n",
      "\n",
      "After OverSampling, counts of label '1': 1829\n",
      "After OverSampling, counts of label '0': 1829\n"
     ]
    }
   ],
   "source": [
    "print(\"Before OverSampling, counts of label '1': {}\".format(sum(y_train == 1))) \n",
    "print(\"Before OverSampling, counts of label '0': {} \\n\".format(sum(y_train == 0))) \n",
    "from imblearn.over_sampling import SMOTE \n",
    "sm = SMOTE(random_state = 2) \n",
    "X_train_res, y_train_res = sm.fit_sample(X_train, y_train) \n",
    "print('After OverSampling, the shape of train_X: {}'.format(X_train_res.shape)) \n",
    "print('After OverSampling, the shape of train_y: {} \\n'.format(y_train_res.shape)) \n",
    "  \n",
    "print(\"After OverSampling, counts of label '1': {}\".format(sum(y_train_res == 1))) \n",
    "print(\"After OverSampling, counts of label '0': {}\".format(sum(y_train_res == 0))) "
   ]
  },
  {
   "cell_type": "markdown",
   "metadata": {
    "colab_type": "text",
    "id": "CCuuenRvTkMp"
   },
   "source": [
    "# Logistic Regression"
   ]
  },
  {
   "cell_type": "code",
   "execution_count": 324,
   "metadata": {},
   "outputs": [],
   "source": [
    "from sklearn.linear_model import LogisticRegression\n",
    "from sklearn.metrics import accuracy_score,confusion_matrix\n",
    "\n",
    "n_list_train = []\n",
    "n_list_val = []\n",
    "range_lr=[0.0001,0.001,0.01,0.1]\n",
    "\n",
    "for i in range_lr:\n",
    "    lr_model=LogisticRegression(C = i)\n",
    "    lr_model.fit(X_train,y_train)\n",
    "    pred_val = lr_model.predict(X_val)\n",
    "    val_score = accuracy_score(y_val,pred_val)\n",
    "    n_list_val.append(val_score)\n",
    "    pred_train = lr_model.predict(X_train)\n",
    "    train_score = accuracy_score(y_train,pred_train)\n",
    "    n_list_train.append(train_score)"
   ]
  },
  {
   "cell_type": "code",
   "execution_count": 325,
   "metadata": {},
   "outputs": [
    {
     "data": {
      "image/png": "[encoded data removed]",
      "text/plain": [
       "<Figure size 1080x360 with 1 Axes>"
      ]
     },
     "metadata": {
      "needs_background": "light"
     },
     "output_type": "display_data"
    }
   ],
   "source": [
    "plt.figure(figsize = (15,5))\n",
    "plt.plot(range_lr,n_list_train,label = 'train accuracy',marker = 'o')\n",
    "plt.plot(range_lr,n_list_val,label = 'validation accuracy',marker = 'o')\n",
    "plt.xlabel('C')\n",
    "plt.ylabel('accuracy')\n",
    "plt.legend(loc='upper right')\n",
    "plt.title('Logistic Regression')\n",
    "plt.show()"
   ]
  },
  {
   "cell_type": "code",
   "execution_count": 326,
   "metadata": {
    "colab": {
     "base_uri": "https://localhost:8080/",
     "height": 101
    },
    "colab_type": "code",
    "id": "yywD3W-OS7co",
    "outputId": "fbe26833-3704-4f9a-c78b-2fbafcade0d0"
   },
   "outputs": [
    {
     "data": {
      "text/plain": [
       "LogisticRegression(C=0.1, random_state=0)"
      ]
     },
     "execution_count": 326,
     "metadata": {},
     "output_type": "execute_result"
    }
   ],
   "source": [
    "#taking C=0.1 as which gives hishest accuracy as compare to other C\n",
    "from sklearn.linear_model import LogisticRegression\n",
    "classifier_log = LogisticRegression(C=0.1, random_state = 0)\n",
    "classifier_log.fit(X_train_res,y_train_res)"
   ]
  },
  {
   "cell_type": "code",
   "execution_count": 335,
   "metadata": {
    "colab": {
     "base_uri": "https://localhost:8080/",
     "height": 134
    },
    "colab_type": "code",
    "id": "YjiNNcozTt9K",
    "outputId": "a976e50e-284e-49e7-d77a-05fb67408fed"
   },
   "outputs": [
    {
     "name": "stdout",
     "output_type": "stream",
     "text": [
      "[[0 0]\n",
      " [0 0]\n",
      " [1 0]\n",
      " ...\n",
      " [0 1]\n",
      " [1 1]\n",
      " [1 1]]\n"
     ]
    }
   ],
   "source": [
    "#Test DataSet\n",
    "y_pred_log = classifier_log.predict(X_test)\n",
    "print(np.concatenate((y_pred_log.reshape(len(y_pred_log),1), np.array(y_test).reshape(len(y_test),1)),1))"
   ]
  },
  {
   "cell_type": "markdown",
   "metadata": {
    "colab_type": "text",
    "id": "vDHuJZ94UCNG"
   },
   "source": [
    "# Decision Tree"
   ]
  },
  {
   "cell_type": "code",
   "execution_count": 336,
   "metadata": {},
   "outputs": [],
   "source": [
    "from sklearn.tree import DecisionTreeClassifier\n",
    "from sklearn.metrics import accuracy_score,confusion_matrix\n",
    "\n",
    "n_list_train = []\n",
    "n_list_val = []\n",
    "range_dt= [0,5,10,15,20,25]\n",
    "\n",
    "for i in range_dt:\n",
    "    tree_model=DecisionTreeClassifier(random_state=i)\n",
    "    tree_model.fit(X_train,y_train)\n",
    "    pred_val = tree_model.predict(X_val)\n",
    "    val_score = accuracy_score(y_val,pred_val)\n",
    "    n_list_val.append(val_score)\n",
    "    pred_train = tree_model.predict(X_train)\n",
    "    train_score = accuracy_score(y_train,pred_train)\n",
    "    n_list_train.append(train_score)"
   ]
  },
  {
   "cell_type": "code",
   "execution_count": 337,
   "metadata": {},
   "outputs": [
    {
     "data": {
      "image/png": "[encoded data removed]",
      "text/plain": [
       "<Figure size 1080x360 with 1 Axes>"
      ]
     },
     "metadata": {
      "needs_background": "light"
     },
     "output_type": "display_data"
    }
   ],
   "source": [
    "plt.figure(figsize = (15,5))\n",
    "plt.plot(range_dt,n_list_train,label = 'train accuracy',marker = 'o')\n",
    "plt.plot(range_dt,n_list_val,label = 'validation accuracy',marker = 'o')\n",
    "plt.xlabel('random_state')\n",
    "plt.ylabel('accuracy')\n",
    "plt.legend(loc='upper right')\n",
    "plt.title('Decision Tree Classifier')\n",
    "plt.show()"
   ]
  },
  {
   "cell_type": "code",
   "execution_count": 338,
   "metadata": {
    "colab": {
     "base_uri": "https://localhost:8080/",
     "height": 118
    },
    "colab_type": "code",
    "id": "bZ0P8xdTT7ew",
    "outputId": "66f21f07-6380-4f14-bb75-66454060313e"
   },
   "outputs": [
    {
     "data": {
      "text/plain": [
       "DecisionTreeClassifier(criterion='entropy', random_state=10)"
      ]
     },
     "execution_count": 338,
     "metadata": {},
     "output_type": "execute_result"
    }
   ],
   "source": [
    "#taking random_state=10 as which gives hishest accuracy as compare to other random_state\n",
    "from sklearn.tree import DecisionTreeClassifier\n",
    "classifier_DT = DecisionTreeClassifier(criterion = 'entropy', random_state = 10)\n",
    "classifier_DT.fit(X_train_res,y_train_res)"
   ]
  },
  {
   "cell_type": "code",
   "execution_count": 339,
   "metadata": {
    "colab": {
     "base_uri": "https://localhost:8080/",
     "height": 134
    },
    "colab_type": "code",
    "id": "tXAl0CYKUHAy",
    "outputId": "b350a000-e98a-454a-da66-a79ae3be5288"
   },
   "outputs": [
    {
     "name": "stdout",
     "output_type": "stream",
     "text": [
      "[[0 0]\n",
      " [0 0]\n",
      " [1 0]\n",
      " ...\n",
      " [1 1]\n",
      " [0 1]\n",
      " [1 1]]\n"
     ]
    }
   ],
   "source": [
    "#Test DataSet\n",
    "y_pred_DT = classifier_DT.predict(X_test)\n",
    "print(np.concatenate((y_pred_DT.reshape(len(y_pred_DT),1), np.array(y_test).reshape(len(y_test),1)),1))"
   ]
  },
  {
   "cell_type": "markdown",
   "metadata": {
    "colab_type": "text",
    "id": "ps0DqddPUf30"
   },
   "source": [
    "# Random Forest"
   ]
  },
  {
   "cell_type": "code",
   "execution_count": 340,
   "metadata": {},
   "outputs": [],
   "source": [
    "from sklearn.ensemble import RandomForestClassifier\n",
    "from sklearn.metrics import accuracy_score,confusion_matrix\n",
    "\n",
    "n_list_train = []\n",
    "n_list_val = []\n",
    "range_rf = [100,200,300,400,500,600,700,800,900,1000]\n",
    "for i in range_rf:\n",
    "    rf_model = RandomForestClassifier(n_estimators = i)\n",
    "    rf_model.fit(X_train,y_train)\n",
    "    pred_val = rf_model.predict(X_val)\n",
    "    val_score = accuracy_score(y_val,pred_val)\n",
    "    n_list_val.append(val_score)\n",
    "    pred_train = rf_model.predict(X_train)\n",
    "    train_score = accuracy_score(y_train,pred_train)\n",
    "    n_list_train.append(train_score)"
   ]
  },
  {
   "cell_type": "code",
   "execution_count": 341,
   "metadata": {},
   "outputs": [
    {
     "data": {
      "image/png": "[encoded data removed]",
      "text/plain": [
       "<Figure size 1080x360 with 1 Axes>"
      ]
     },
     "metadata": {
      "needs_background": "light"
     },
     "output_type": "display_data"
    }
   ],
   "source": [
    "plt.figure(figsize = (15,5))\n",
    "plt.plot(range_rf,n_list_train,label = 'train accuracy',marker = 'o')\n",
    "plt.plot(range_rf,n_list_val,label = 'validation accuracy',marker = 'o')\n",
    "plt.xlabel('n_estimators')\n",
    "plt.ylabel('accuracy')\n",
    "plt.legend()\n",
    "plt.title('Random Forest Classifier')\n",
    "plt.show()"
   ]
  },
  {
   "cell_type": "code",
   "execution_count": 342,
   "metadata": {
    "colab": {
     "base_uri": "https://localhost:8080/",
     "height": 151
    },
    "colab_type": "code",
    "id": "56b_yUb9UT9S",
    "outputId": "26758969-98e7-414d-e321-e698a637a17c"
   },
   "outputs": [
    {
     "data": {
      "text/plain": [
       "RandomForestClassifier(criterion='entropy', n_estimators=200, random_state=0)"
      ]
     },
     "execution_count": 342,
     "metadata": {},
     "output_type": "execute_result"
    }
   ],
   "source": [
    "#taking n_estimators=200 which gives hishest accuracy as compare to other n_estimators\n",
    "from sklearn.ensemble import RandomForestClassifier\n",
    "classifier_RF = RandomForestClassifier(n_estimators = 200, criterion = 'entropy', random_state = 0)\n",
    "classifier_RF.fit(X_train_res,y_train_res)"
   ]
  },
  {
   "cell_type": "code",
   "execution_count": 343,
   "metadata": {
    "colab": {
     "base_uri": "https://localhost:8080/",
     "height": 134
    },
    "colab_type": "code",
    "id": "r-DpEyODUlIH",
    "outputId": "1ddfcb82-8cbc-4765-a910-0994832e5dce"
   },
   "outputs": [
    {
     "name": "stdout",
     "output_type": "stream",
     "text": [
      "[[0 0]\n",
      " [0 0]\n",
      " [1 0]\n",
      " ...\n",
      " [0 1]\n",
      " [0 1]\n",
      " [1 1]]\n"
     ]
    }
   ],
   "source": [
    "#Test DataSet\n",
    "y_pred_RF = classifier_RF.predict(X_test)\n",
    "print(np.concatenate((y_pred_RF.reshape(len(y_pred_RF),1), np.array(y_test).reshape(len(y_test),1)),1))"
   ]
  },
  {
   "cell_type": "markdown",
   "metadata": {
    "colab_type": "text",
    "id": "p9_aW4en46GO"
   },
   "source": [
    "## **QII. How would you compare the performance of different models on the test dataset?What metrics and visualizations would you use to present your findings to the client?**\n"
   ]
  },
  {
   "cell_type": "markdown",
   "metadata": {
    "colab_type": "text",
    "id": "gMt5e4Kb5OBx"
   },
   "source": [
    "As this is an imbalance dataset accuracy metric can mislead us about the results because if the model is biased towards the majority class then accuracy will be high but the model will fail to give correct result in case of minor class.So in this case we have to see the precision and recall metric.These metrics will help us to identify how well the model is predicting the true positives.For visualization we used precision-recall curve, (area under curve of) which will help us to compare the models.More the area under the curve better performance of the model.\n",
    "\n",
    "Average Precision-recall score also help us to compare the model performance.More the score better the model. \n",
    "\n"
   ]
  },
  {
   "cell_type": "markdown",
   "metadata": {
    "colab_type": "text",
    "id": "VoSatG3TI6jA"
   },
   "source": [
    "## Logistic Regression"
   ]
  },
  {
   "cell_type": "code",
   "execution_count": 344,
   "metadata": {
    "colab": {
     "base_uri": "https://localhost:8080/",
     "height": 168
    },
    "colab_type": "code",
    "id": "XYg6ow3OJVwY",
    "outputId": "37d16c43-d39f-494f-9b53-8cecdb52020e"
   },
   "outputs": [
    {
     "name": "stdout",
     "output_type": "stream",
     "text": [
      "              precision    recall  f1-score   support\n",
      "\n",
      "           0       0.95      0.75      0.84      1432\n",
      "           1       0.35      0.78      0.48       240\n",
      "\n",
      "    accuracy                           0.76      1672\n",
      "   macro avg       0.65      0.77      0.66      1672\n",
      "weighted avg       0.87      0.76      0.79      1672\n",
      "\n"
     ]
    }
   ],
   "source": [
    "from sklearn.metrics import classification_report\n",
    "print(classification_report(y_test,y_pred_log))"
   ]
  },
  {
   "cell_type": "code",
   "execution_count": 345,
   "metadata": {
    "colab": {
     "base_uri": "https://localhost:8080/",
     "height": 329
    },
    "colab_type": "code",
    "id": "6Wx-tuyJJglz",
    "outputId": "57e5860d-88cf-452e-e3b4-174cc7c2f8d5"
   },
   "outputs": [
    {
     "name": "stdout",
     "output_type": "stream",
     "text": [
      "Average precision-recall score: 0.30\n"
     ]
    },
    {
     "data": {
      "text/plain": [
       "Text(0.5, 1.0, 'Precision-Recall curve')"
      ]
     },
     "execution_count": 345,
     "metadata": {},
     "output_type": "execute_result"
    },
    {
     "data": {
      "image/png": "[encoded data removed]",
      "text/plain": [
       "<Figure size 432x288 with 1 Axes>"
      ]
     },
     "metadata": {
      "needs_background": "light"
     },
     "output_type": "display_data"
    }
   ],
   "source": [
    "from sklearn.metrics import precision_recall_curve\n",
    "from sklearn.metrics import plot_precision_recall_curve\n",
    "import matplotlib.pyplot as plt\n",
    "from sklearn.metrics import average_precision_score\n",
    "average_precision1 = average_precision_score(y_test, y_pred_log)\n",
    "\n",
    "print('Average precision-recall score: {0:0.2f}'.format(\n",
    "      average_precision1))\n",
    "disp = plot_precision_recall_curve(classifier_log, X_test, y_test)\n",
    "disp.ax_.set_title('Precision-Recall curve')"
   ]
  },
  {
   "cell_type": "markdown",
   "metadata": {
    "colab_type": "text",
    "id": "ZRYbm4QaJJvK"
   },
   "source": [
    "## Decision Tree"
   ]
  },
  {
   "cell_type": "code",
   "execution_count": 346,
   "metadata": {
    "colab": {
     "base_uri": "https://localhost:8080/",
     "height": 168
    },
    "colab_type": "code",
    "id": "d5Ntno5KJtS-",
    "outputId": "34d5aecd-0faf-4beb-f560-ba61722e1210"
   },
   "outputs": [
    {
     "name": "stdout",
     "output_type": "stream",
     "text": [
      "              precision    recall  f1-score   support\n",
      "\n",
      "           0       0.97      0.95      0.96      1432\n",
      "           1       0.75      0.83      0.79       240\n",
      "\n",
      "    accuracy                           0.94      1672\n",
      "   macro avg       0.86      0.89      0.88      1672\n",
      "weighted avg       0.94      0.94      0.94      1672\n",
      "\n"
     ]
    }
   ],
   "source": [
    "from sklearn.metrics import classification_report\n",
    "print(classification_report(y_test,y_pred_DT))"
   ]
  },
  {
   "cell_type": "code",
   "execution_count": 347,
   "metadata": {
    "colab": {
     "base_uri": "https://localhost:8080/",
     "height": 346
    },
    "colab_type": "code",
    "id": "Uwva07FEJsyL",
    "outputId": "25cb6b85-4531-4ecd-f0c1-53de87a88efd"
   },
   "outputs": [
    {
     "name": "stdout",
     "output_type": "stream",
     "text": [
      "Average precision-recall score: 0.65\n"
     ]
    },
    {
     "data": {
      "text/plain": [
       "Text(0.5, 1.0, 'Precision-Recall curve')"
      ]
     },
     "execution_count": 347,
     "metadata": {},
     "output_type": "execute_result"
    },
    {
     "data": {
      "text/plain": [
       "<Figure size 720x360 with 0 Axes>"
      ]
     },
     "metadata": {},
     "output_type": "display_data"
    },
    {
     "data": {
      "image/png": "[encoded data removed]",
      "text/plain": [
       "<Figure size 432x288 with 1 Axes>"
      ]
     },
     "metadata": {
      "needs_background": "light"
     },
     "output_type": "display_data"
    }
   ],
   "source": [
    "from sklearn.metrics import precision_recall_curve\n",
    "from sklearn.metrics import plot_precision_recall_curve\n",
    "import matplotlib.pyplot as plt\n",
    "from sklearn.metrics import average_precision_score\n",
    "plt.figure(figsize=(10,5))\n",
    "average_precision2 = average_precision_score(y_test, y_pred_DT)\n",
    "\n",
    "print('Average precision-recall score: {0:0.2f}'.format(\n",
    "      average_precision2))\n",
    "disp = plot_precision_recall_curve(classifier_DT, X_test, y_test)\n",
    "disp.ax_.set_title('Precision-Recall curve')"
   ]
  },
  {
   "cell_type": "markdown",
   "metadata": {
    "colab_type": "text",
    "id": "LDCE2c16I6IL"
   },
   "source": [
    "## Random Forest"
   ]
  },
  {
   "cell_type": "code",
   "execution_count": 348,
   "metadata": {
    "colab": {
     "base_uri": "https://localhost:8080/",
     "height": 168
    },
    "colab_type": "code",
    "id": "cu5uruTrKL0l",
    "outputId": "12eaf463-8d1b-4f34-d34a-53485d363fc5"
   },
   "outputs": [
    {
     "name": "stdout",
     "output_type": "stream",
     "text": [
      "              precision    recall  f1-score   support\n",
      "\n",
      "           0       0.97      0.99      0.98      1432\n",
      "           1       0.93      0.83      0.88       240\n",
      "\n",
      "    accuracy                           0.97      1672\n",
      "   macro avg       0.95      0.91      0.93      1672\n",
      "weighted avg       0.97      0.97      0.97      1672\n",
      "\n"
     ]
    }
   ],
   "source": [
    "from sklearn.metrics import classification_report\n",
    "print(classification_report(y_test,y_pred_RF))"
   ]
  },
  {
   "cell_type": "code",
   "execution_count": 349,
   "metadata": {
    "colab": {
     "base_uri": "https://localhost:8080/",
     "height": 329
    },
    "colab_type": "code",
    "id": "O_1VWfQ4KLhZ",
    "outputId": "be7752f4-4262-4110-ff69-4c69a602397b"
   },
   "outputs": [
    {
     "name": "stdout",
     "output_type": "stream",
     "text": [
      "Average precision-recall score: 0.80\n"
     ]
    },
    {
     "data": {
      "text/plain": [
       "Text(0.5, 1.0, 'Precision-Recall curve')"
      ]
     },
     "execution_count": 349,
     "metadata": {},
     "output_type": "execute_result"
    },
    {
     "data": {
      "image/png": "[encoded data removed]",
      "text/plain": [
       "<Figure size 432x288 with 1 Axes>"
      ]
     },
     "metadata": {
      "needs_background": "light"
     },
     "output_type": "display_data"
    }
   ],
   "source": [
    "from sklearn.metrics import precision_recall_curve\n",
    "from sklearn.metrics import plot_precision_recall_curve\n",
    "import matplotlib.pyplot as plt\n",
    "from sklearn.metrics import average_precision_score\n",
    "average_precision3 = average_precision_score(y_test, y_pred_RF)\n",
    "\n",
    "print('Average precision-recall score: {0:0.2f}'.format(\n",
    "      average_precision3))\n",
    "disp = plot_precision_recall_curve(classifier_RF, X_test, y_test)\n",
    "disp.ax_.set_title('Precision-Recall curve')"
   ]
  },
  {
   "cell_type": "markdown",
   "metadata": {
    "colab_type": "text",
    "id": "150YbcPy5va3"
   },
   "source": [
    "These are the way through which we can compare the model performance.\n",
    "\n",
    "**metric used**--precision,recall \n",
    "\n",
    "**visualization**--precision-recall curve."
   ]
  },
  {
   "cell_type": "markdown",
   "metadata": {
    "colab_type": "text",
    "id": "oW3sfnF78IO5"
   },
   "source": [
    "## **QIII. If you had to pick one model/approach to recommend to the client, which one would you choose? Why? What would be your considerations? How would you justify your decision?**"
   ]
  },
  {
   "cell_type": "markdown",
   "metadata": {
    "colab_type": "text",
    "id": "3ZedIPYs8UBN"
   },
   "source": [
    "For this we have to judge the precision and recall for the model as it is an imbalance dataset.Accuracy wont be a reliable metric here.To judge the precision and recall there is a reliable metric called **average precision-recall score**.More the score for a model better would be its performance on the imbalance data. "
   ]
  },
  {
   "cell_type": "code",
   "execution_count": 350,
   "metadata": {
    "colab": {
     "base_uri": "https://localhost:8080/",
     "height": 168
    },
    "colab_type": "code",
    "id": "CO6lpigeLU3m",
    "outputId": "865ed70d-2f24-4b3f-c9f4-6a51ebc8df88"
   },
   "outputs": [
    {
     "name": "stdout",
     "output_type": "stream",
     "text": [
      "              precision    recall  f1-score   support\n",
      "\n",
      "           0       0.97      0.99      0.98      1432\n",
      "           1       0.93      0.83      0.88       240\n",
      "\n",
      "    accuracy                           0.97      1672\n",
      "   macro avg       0.95      0.91      0.93      1672\n",
      "weighted avg       0.97      0.97      0.97      1672\n",
      "\n"
     ]
    }
   ],
   "source": [
    "#RandomForest\n",
    "from sklearn.metrics import classification_report\n",
    "print(classification_report(y_test,y_pred_RF))"
   ]
  },
  {
   "cell_type": "code",
   "execution_count": 351,
   "metadata": {
    "colab": {},
    "colab_type": "code",
    "id": "AN0ifCaTsp4l"
   },
   "outputs": [],
   "source": [
    "AP_df = pd.DataFrame()"
   ]
  },
  {
   "cell_type": "code",
   "execution_count": 352,
   "metadata": {
    "colab": {},
    "colab_type": "code",
    "id": "9AdOnFCitE4z"
   },
   "outputs": [],
   "source": [
    "AP_df['AP_Score'] = [average_precision1,average_precision2,average_precision3]"
   ]
  },
  {
   "cell_type": "code",
   "execution_count": 353,
   "metadata": {
    "colab": {},
    "colab_type": "code",
    "id": "k_uGDv7Fuprf"
   },
   "outputs": [],
   "source": [
    "AP_df.index = ['Logistic_Reg','Decision_tree','Random_Forest']"
   ]
  },
  {
   "cell_type": "code",
   "execution_count": 354,
   "metadata": {
    "colab": {
     "base_uri": "https://localhost:8080/",
     "height": 350
    },
    "colab_type": "code",
    "id": "G_B_xXAptpgN",
    "outputId": "0643fbc8-2452-46df-8852-ced43b1e7565"
   },
   "outputs": [
    {
     "data": {
      "text/plain": [
       "Text(0, 0.5, 'average precision-recall score')"
      ]
     },
     "execution_count": 354,
     "metadata": {},
     "output_type": "execute_result"
    },
    {
     "data": {
      "image/png": "[encoded data removed]",
      "text/plain": [
       "<Figure size 432x288 with 1 Axes>"
      ]
     },
     "metadata": {
      "needs_background": "light"
     },
     "output_type": "display_data"
    }
   ],
   "source": [
    "AP_df['AP_Score'].plot(kind='bar')\n",
    "plt.ylabel('average precision-recall score')"
   ]
  },
  {
   "cell_type": "markdown",
   "metadata": {
    "colab_type": "text",
    "id": "eGF_8dx6vD1v"
   },
   "source": [
    "**So finally I will judge the model with average precision score from the above plot.Random forest algorithm out performs everyone.So the best choice will be Random Forest.I can assure that we can rely on this model for prediction of customer churn early with the help of necessary features and we can take necessary steps to stop the churn.**"
   ]
  },
  {
   "cell_type": "markdown",
   "metadata": {
    "colab_type": "text",
    "id": "4gdGVg0G91X7"
   },
   "source": [
    "## **QIV. What are the leading indicators of customer churn? Could you rank them in the order of importance?**"
   ]
  },
  {
   "cell_type": "code",
   "execution_count": 355,
   "metadata": {
    "colab": {},
    "colab_type": "code",
    "id": "lTbMiVYYU60V"
   },
   "outputs": [],
   "source": [
    "X_ft['state'] = le.fit_transform(X_ft['state'])\n",
    "X_ft['international plan'] = X_ft['international plan'].apply(lambda x: 0 if x== ' no' else 1)\n",
    "X_ft['voice mail plan'] = X_ft['voice mail plan'].apply(lambda x: 0 if x== ' no' else 1)\n",
    "y_ft = y_ft.apply(lambda x: 0 if x==' False.' else 1)"
   ]
  },
  {
   "cell_type": "code",
   "execution_count": 357,
   "metadata": {
    "colab": {
     "base_uri": "https://localhost:8080/",
     "height": 435
    },
    "colab_type": "code",
    "id": "UrRJlFb--MOt",
    "outputId": "9b9cefaf-c859-4575-aa6b-91f488408ac4"
   },
   "outputs": [
    {
     "data": {
      "text/html": [
       "<div>\n",
       "<style scoped>\n",
       "    .dataframe tbody tr th:only-of-type {\n",
       "        vertical-align: middle;\n",
       "    }\n",
       "\n",
       "    .dataframe tbody tr th {\n",
       "        vertical-align: top;\n",
       "    }\n",
       "\n",
       "    .dataframe thead th {\n",
       "        text-align: right;\n",
       "    }\n",
       "</style>\n",
       "<table border=\"1\" class=\"dataframe\">\n",
       "  <thead>\n",
       "    <tr style=\"text-align: right;\">\n",
       "      <th></th>\n",
       "      <th>state</th>\n",
       "      <th>account length</th>\n",
       "      <th>area code</th>\n",
       "      <th>international plan</th>\n",
       "      <th>voice mail plan</th>\n",
       "      <th>number vmail messages</th>\n",
       "      <th>total day minutes</th>\n",
       "      <th>total day calls</th>\n",
       "      <th>total day charge</th>\n",
       "      <th>total eve minutes</th>\n",
       "      <th>total eve calls</th>\n",
       "      <th>total eve charge</th>\n",
       "      <th>total night minutes</th>\n",
       "      <th>total night calls</th>\n",
       "      <th>total night charge</th>\n",
       "      <th>total intl minutes</th>\n",
       "      <th>total intl calls</th>\n",
       "      <th>total intl charge</th>\n",
       "      <th>number customer service calls</th>\n",
       "    </tr>\n",
       "  </thead>\n",
       "  <tbody>\n",
       "    <tr>\n",
       "      <th>0</th>\n",
       "      <td>16</td>\n",
       "      <td>128</td>\n",
       "      <td>415</td>\n",
       "      <td>0</td>\n",
       "      <td>1</td>\n",
       "      <td>25</td>\n",
       "      <td>265.1</td>\n",
       "      <td>110.0</td>\n",
       "      <td>45.07</td>\n",
       "      <td>197.4</td>\n",
       "      <td>99</td>\n",
       "      <td>16.78</td>\n",
       "      <td>244.7</td>\n",
       "      <td>91.0</td>\n",
       "      <td>11.01</td>\n",
       "      <td>10.0</td>\n",
       "      <td>3</td>\n",
       "      <td>2.70</td>\n",
       "      <td>1</td>\n",
       "    </tr>\n",
       "    <tr>\n",
       "      <th>1</th>\n",
       "      <td>35</td>\n",
       "      <td>107</td>\n",
       "      <td>415</td>\n",
       "      <td>0</td>\n",
       "      <td>1</td>\n",
       "      <td>26</td>\n",
       "      <td>161.6</td>\n",
       "      <td>123.0</td>\n",
       "      <td>27.47</td>\n",
       "      <td>195.5</td>\n",
       "      <td>103</td>\n",
       "      <td>16.62</td>\n",
       "      <td>254.4</td>\n",
       "      <td>103.0</td>\n",
       "      <td>11.45</td>\n",
       "      <td>13.7</td>\n",
       "      <td>3</td>\n",
       "      <td>3.70</td>\n",
       "      <td>1</td>\n",
       "    </tr>\n",
       "    <tr>\n",
       "      <th>2</th>\n",
       "      <td>31</td>\n",
       "      <td>137</td>\n",
       "      <td>415</td>\n",
       "      <td>0</td>\n",
       "      <td>0</td>\n",
       "      <td>0</td>\n",
       "      <td>243.4</td>\n",
       "      <td>114.0</td>\n",
       "      <td>41.38</td>\n",
       "      <td>121.2</td>\n",
       "      <td>110</td>\n",
       "      <td>10.30</td>\n",
       "      <td>162.6</td>\n",
       "      <td>104.0</td>\n",
       "      <td>7.32</td>\n",
       "      <td>12.2</td>\n",
       "      <td>5</td>\n",
       "      <td>3.29</td>\n",
       "      <td>0</td>\n",
       "    </tr>\n",
       "    <tr>\n",
       "      <th>3</th>\n",
       "      <td>35</td>\n",
       "      <td>84</td>\n",
       "      <td>408</td>\n",
       "      <td>1</td>\n",
       "      <td>0</td>\n",
       "      <td>0</td>\n",
       "      <td>299.4</td>\n",
       "      <td>7100.0</td>\n",
       "      <td>1500.90</td>\n",
       "      <td>61.9</td>\n",
       "      <td>88</td>\n",
       "      <td>5.26</td>\n",
       "      <td>196.9</td>\n",
       "      <td>89.0</td>\n",
       "      <td>8.86</td>\n",
       "      <td>600.6</td>\n",
       "      <td>7</td>\n",
       "      <td>1.78</td>\n",
       "      <td>2</td>\n",
       "    </tr>\n",
       "    <tr>\n",
       "      <th>4</th>\n",
       "      <td>36</td>\n",
       "      <td>75</td>\n",
       "      <td>415</td>\n",
       "      <td>1</td>\n",
       "      <td>0</td>\n",
       "      <td>0</td>\n",
       "      <td>166.7</td>\n",
       "      <td>113.0</td>\n",
       "      <td>28.34</td>\n",
       "      <td>148.3</td>\n",
       "      <td>122</td>\n",
       "      <td>12.61</td>\n",
       "      <td>186.9</td>\n",
       "      <td>121.0</td>\n",
       "      <td>8.41</td>\n",
       "      <td>10.1</td>\n",
       "      <td>3</td>\n",
       "      <td>2.73</td>\n",
       "      <td>3</td>\n",
       "    </tr>\n",
       "  </tbody>\n",
       "</table>\n",
       "</div>"
      ],
      "text/plain": [
       "   state  account length  area code  international plan  voice mail plan  \\\n",
       "0     16             128        415                   0                1   \n",
       "1     35             107        415                   0                1   \n",
       "2     31             137        415                   0                0   \n",
       "3     35              84        408                   1                0   \n",
       "4     36              75        415                   1                0   \n",
       "\n",
       "   number vmail messages  total day minutes  total day calls  \\\n",
       "0                     25              265.1            110.0   \n",
       "1                     26              161.6            123.0   \n",
       "2                      0              243.4            114.0   \n",
       "3                      0              299.4           7100.0   \n",
       "4                      0              166.7            113.0   \n",
       "\n",
       "   total day charge  total eve minutes  total eve calls  total eve charge  \\\n",
       "0             45.07              197.4               99             16.78   \n",
       "1             27.47              195.5              103             16.62   \n",
       "2             41.38              121.2              110             10.30   \n",
       "3           1500.90               61.9               88              5.26   \n",
       "4             28.34              148.3              122             12.61   \n",
       "\n",
       "   total night minutes  total night calls  total night charge  \\\n",
       "0                244.7               91.0               11.01   \n",
       "1                254.4              103.0               11.45   \n",
       "2                162.6              104.0                7.32   \n",
       "3                196.9               89.0                8.86   \n",
       "4                186.9              121.0                8.41   \n",
       "\n",
       "   total intl minutes  total intl calls  total intl charge  \\\n",
       "0                10.0                 3               2.70   \n",
       "1                13.7                 3               3.70   \n",
       "2                12.2                 5               3.29   \n",
       "3               600.6                 7               1.78   \n",
       "4                10.1                 3               2.73   \n",
       "\n",
       "   number customer service calls  \n",
       "0                              1  \n",
       "1                              1  \n",
       "2                              0  \n",
       "3                              2  \n",
       "4                              3  "
      ]
     },
     "execution_count": 357,
     "metadata": {},
     "output_type": "execute_result"
    }
   ],
   "source": [
    "X_ft.head()"
   ]
  },
  {
   "cell_type": "code",
   "execution_count": 359,
   "metadata": {
    "colab": {
     "base_uri": "https://localhost:8080/",
     "height": 218
    },
    "colab_type": "code",
    "id": "4OmxGjMm-_yD",
    "outputId": "e56f14bc-6ec0-4d59-a9cb-013189cd4df9"
   },
   "outputs": [
    {
     "data": {
      "text/plain": [
       "0    0\n",
       "1    0\n",
       "2    0\n",
       "3    0\n",
       "4    0\n",
       "Name: Churn Indicator, dtype: int64"
      ]
     },
     "execution_count": 359,
     "metadata": {},
     "output_type": "execute_result"
    }
   ],
   "source": [
    "y_ft.head()"
   ]
  },
  {
   "cell_type": "code",
   "execution_count": 360,
   "metadata": {
    "colab": {},
    "colab_type": "code",
    "id": "D7Bz0lZmBdbe"
   },
   "outputs": [],
   "source": [
    "X_ft_t = X_ft.values\n",
    "y_ft_t = y_ft.values"
   ]
  },
  {
   "cell_type": "code",
   "execution_count": 361,
   "metadata": {
    "colab": {
     "base_uri": "https://localhost:8080/",
     "height": 84
    },
    "colab_type": "code",
    "id": "6M6yvj7uBpv0",
    "outputId": "4133001d-9c2f-4e79-e94c-00d49b75e2a3"
   },
   "outputs": [
    {
     "name": "stdout",
     "output_type": "stream",
     "text": [
      "[0.02425594 0.03103868 0.00771419 0.09601696 0.01995452 0.02749304\n",
      " 0.13956277 0.03088242 0.12235783 0.06219171 0.02630162 0.06394084\n",
      " 0.03641864 0.02902095 0.03696823 0.03948936 0.04472521 0.04263617\n",
      " 0.11903092]\n"
     ]
    }
   ],
   "source": [
    "from sklearn.ensemble import RandomForestClassifier\n",
    "model = RandomForestClassifier()\n",
    "model.fit(X_ft_t,y_ft_t)\n",
    "imp = model.feature_importances_\n",
    "print(imp)"
   ]
  },
  {
   "cell_type": "code",
   "execution_count": 362,
   "metadata": {
    "colab": {},
    "colab_type": "code",
    "id": "JFibIbVCB0dV"
   },
   "outputs": [],
   "source": [
    "df_imp = pd.DataFrame(X_ft.columns,columns=['feature_name'])"
   ]
  },
  {
   "cell_type": "code",
   "execution_count": 363,
   "metadata": {
    "colab": {},
    "colab_type": "code",
    "id": "pVtUQC79CSEG"
   },
   "outputs": [],
   "source": [
    "imp.sort()\n",
    "df_imp['feature_value'] = imp"
   ]
  },
  {
   "cell_type": "code",
   "execution_count": 364,
   "metadata": {
    "colab": {
     "base_uri": "https://localhost:8080/",
     "height": 610
    },
    "colab_type": "code",
    "id": "EHN5fumtCTZK",
    "outputId": "ec57a31e-87b2-4653-c816-dec6661e9215"
   },
   "outputs": [
    {
     "data": {
      "text/html": [
       "<div>\n",
       "<style scoped>\n",
       "    .dataframe tbody tr th:only-of-type {\n",
       "        vertical-align: middle;\n",
       "    }\n",
       "\n",
       "    .dataframe tbody tr th {\n",
       "        vertical-align: top;\n",
       "    }\n",
       "\n",
       "    .dataframe thead th {\n",
       "        text-align: right;\n",
       "    }\n",
       "</style>\n",
       "<table border=\"1\" class=\"dataframe\">\n",
       "  <thead>\n",
       "    <tr style=\"text-align: right;\">\n",
       "      <th></th>\n",
       "      <th>feature_name</th>\n",
       "      <th>feature_value</th>\n",
       "    </tr>\n",
       "  </thead>\n",
       "  <tbody>\n",
       "    <tr>\n",
       "      <th>0</th>\n",
       "      <td>state</td>\n",
       "      <td>0.007714</td>\n",
       "    </tr>\n",
       "    <tr>\n",
       "      <th>1</th>\n",
       "      <td>account length</td>\n",
       "      <td>0.019955</td>\n",
       "    </tr>\n",
       "    <tr>\n",
       "      <th>2</th>\n",
       "      <td>area code</td>\n",
       "      <td>0.024256</td>\n",
       "    </tr>\n",
       "    <tr>\n",
       "      <th>3</th>\n",
       "      <td>international plan</td>\n",
       "      <td>0.026302</td>\n",
       "    </tr>\n",
       "    <tr>\n",
       "      <th>4</th>\n",
       "      <td>voice mail plan</td>\n",
       "      <td>0.027493</td>\n",
       "    </tr>\n",
       "    <tr>\n",
       "      <th>5</th>\n",
       "      <td>number vmail messages</td>\n",
       "      <td>0.029021</td>\n",
       "    </tr>\n",
       "    <tr>\n",
       "      <th>6</th>\n",
       "      <td>total day minutes</td>\n",
       "      <td>0.030882</td>\n",
       "    </tr>\n",
       "    <tr>\n",
       "      <th>7</th>\n",
       "      <td>total day calls</td>\n",
       "      <td>0.031039</td>\n",
       "    </tr>\n",
       "    <tr>\n",
       "      <th>8</th>\n",
       "      <td>total day charge</td>\n",
       "      <td>0.036419</td>\n",
       "    </tr>\n",
       "    <tr>\n",
       "      <th>9</th>\n",
       "      <td>total eve minutes</td>\n",
       "      <td>0.036968</td>\n",
       "    </tr>\n",
       "    <tr>\n",
       "      <th>10</th>\n",
       "      <td>total eve calls</td>\n",
       "      <td>0.039489</td>\n",
       "    </tr>\n",
       "    <tr>\n",
       "      <th>11</th>\n",
       "      <td>total eve charge</td>\n",
       "      <td>0.042636</td>\n",
       "    </tr>\n",
       "    <tr>\n",
       "      <th>12</th>\n",
       "      <td>total night minutes</td>\n",
       "      <td>0.044725</td>\n",
       "    </tr>\n",
       "    <tr>\n",
       "      <th>13</th>\n",
       "      <td>total night calls</td>\n",
       "      <td>0.062192</td>\n",
       "    </tr>\n",
       "    <tr>\n",
       "      <th>14</th>\n",
       "      <td>total night charge</td>\n",
       "      <td>0.063941</td>\n",
       "    </tr>\n",
       "    <tr>\n",
       "      <th>15</th>\n",
       "      <td>total intl minutes</td>\n",
       "      <td>0.096017</td>\n",
       "    </tr>\n",
       "    <tr>\n",
       "      <th>16</th>\n",
       "      <td>total intl calls</td>\n",
       "      <td>0.119031</td>\n",
       "    </tr>\n",
       "    <tr>\n",
       "      <th>17</th>\n",
       "      <td>total intl charge</td>\n",
       "      <td>0.122358</td>\n",
       "    </tr>\n",
       "    <tr>\n",
       "      <th>18</th>\n",
       "      <td>number customer service calls</td>\n",
       "      <td>0.139563</td>\n",
       "    </tr>\n",
       "  </tbody>\n",
       "</table>\n",
       "</div>"
      ],
      "text/plain": [
       "                     feature_name  feature_value\n",
       "0                           state       0.007714\n",
       "1                  account length       0.019955\n",
       "2                       area code       0.024256\n",
       "3              international plan       0.026302\n",
       "4                 voice mail plan       0.027493\n",
       "5           number vmail messages       0.029021\n",
       "6               total day minutes       0.030882\n",
       "7                 total day calls       0.031039\n",
       "8                total day charge       0.036419\n",
       "9               total eve minutes       0.036968\n",
       "10                total eve calls       0.039489\n",
       "11               total eve charge       0.042636\n",
       "12            total night minutes       0.044725\n",
       "13              total night calls       0.062192\n",
       "14             total night charge       0.063941\n",
       "15             total intl minutes       0.096017\n",
       "16               total intl calls       0.119031\n",
       "17              total intl charge       0.122358\n",
       "18  number customer service calls       0.139563"
      ]
     },
     "execution_count": 364,
     "metadata": {},
     "output_type": "execute_result"
    }
   ],
   "source": [
    "df_imp"
   ]
  },
  {
   "cell_type": "code",
   "execution_count": 365,
   "metadata": {
    "colab": {
     "base_uri": "https://localhost:8080/",
     "height": 406
    },
    "colab_type": "code",
    "id": "YITQPoYvCgFg",
    "outputId": "ed1a474f-f129-4fe7-c20e-7211518277e8"
   },
   "outputs": [
    {
     "data": {
      "text/plain": [
       "<matplotlib.axes._subplots.AxesSubplot at 0x21b9e4e0>"
      ]
     },
     "execution_count": 365,
     "metadata": {},
     "output_type": "execute_result"
    },
    {
     "data": {
      "image/png": "[encoded data removed]",
      "text/plain": [
       "<Figure size 648x432 with 1 Axes>"
      ]
     },
     "metadata": {
      "needs_background": "light"
     },
     "output_type": "display_data"
    }
   ],
   "source": [
    "plt.figure(figsize=(9,6))\n",
    "sns.barplot(x=\"feature_value\", y=\"feature_name\", \n",
    "            data=df_imp,\n",
    "            label=\"feature Importance in order\", \n",
    "            orient = \"h\")"
   ]
  },
  {
   "cell_type": "markdown",
   "metadata": {
    "colab_type": "text",
    "id": "m6fU0uIdEXXm"
   },
   "source": [
    "**From this We can easily identify the leading indicators of customer churn.**"
   ]
  },
  {
   "cell_type": "markdown",
   "metadata": {
    "colab_type": "text",
    "id": "Kg-3fJxQGKAq"
   },
   "source": [
    "## **Q.V. How would you flag each customer in the test dataset as HIGH or LOW churn risk based on their predicted churn probability?**"
   ]
  },
  {
   "cell_type": "markdown",
   "metadata": {
    "colab_type": "text",
    "id": "-gd8wVAk0acy"
   },
   "source": [
    "**As the Random Forest model gives the best result in model performance so its classifier is used to compute the churn probability.**"
   ]
  },
  {
   "cell_type": "code",
   "execution_count": 366,
   "metadata": {
    "colab": {},
    "colab_type": "code",
    "id": "mivAh9mtCo5X"
   },
   "outputs": [],
   "source": [
    "prob = classifier_RF.predict_proba(X_test)[:,1] #Churn Probability"
   ]
  },
  {
   "cell_type": "code",
   "execution_count": 367,
   "metadata": {
    "colab": {
     "base_uri": "https://localhost:8080/",
     "height": 34
    },
    "colab_type": "code",
    "id": "PhrEdNnxGuGG",
    "outputId": "0796df14-2372-4782-e6b5-fc86edb8dd64"
   },
   "outputs": [
    {
     "data": {
      "text/plain": [
       "array([0.055, 0.01 , 0.64 , ..., 0.095, 0.335, 0.96 ])"
      ]
     },
     "execution_count": 367,
     "metadata": {},
     "output_type": "execute_result"
    }
   ],
   "source": [
    "prob"
   ]
  },
  {
   "cell_type": "code",
   "execution_count": 368,
   "metadata": {
    "colab": {
     "base_uri": "https://localhost:8080/",
     "height": 50
    },
    "colab_type": "code",
    "id": "WHFc8vm8GvX9",
    "outputId": "1d85242e-daaf-4b81-da03-715cfabd6418"
   },
   "outputs": [
    {
     "data": {
      "text/plain": [
       "array([' 354-8814', ' 381-7210', ' 411-9480', ..., ' 403-2223',\n",
       "       ' 420-7243', ' 408-1869'], dtype=object)"
      ]
     },
     "execution_count": 368,
     "metadata": {},
     "output_type": "execute_result"
    }
   ],
   "source": [
    "mobile.values"
   ]
  },
  {
   "cell_type": "code",
   "execution_count": 369,
   "metadata": {
    "colab": {},
    "colab_type": "code",
    "id": "yD9gxT83G686"
   },
   "outputs": [],
   "source": [
    "churn_probability = pd.DataFrame(mobile.values,columns=['mobile no.'])"
   ]
  },
  {
   "cell_type": "code",
   "execution_count": 370,
   "metadata": {
    "colab": {},
    "colab_type": "code",
    "id": "1hmOW19ZG-nW"
   },
   "outputs": [],
   "source": [
    "churn_probability['churn_probability'] = prob "
   ]
  },
  {
   "cell_type": "markdown",
   "metadata": {
    "colab_type": "text",
    "id": "vGvNeaQj05Rk"
   },
   "source": [
    "**0.5 is used as threshold for deciding 'HIGH' and 'LOW'.**"
   ]
  },
  {
   "cell_type": "code",
   "execution_count": 371,
   "metadata": {
    "colab": {},
    "colab_type": "code",
    "id": "vf2lEl_iHBxt"
   },
   "outputs": [],
   "source": [
    "churn_probability['Risk'] = churn_probability['churn_probability'].apply(lambda x: 'HIGH' if x>0.5 else 'LOW')"
   ]
  },
  {
   "cell_type": "code",
   "execution_count": 372,
   "metadata": {
    "colab": {
     "base_uri": "https://localhost:8080/",
     "height": 402
    },
    "colab_type": "code",
    "id": "YTeSdwFeHGDh",
    "outputId": "b4a2fbf5-5798-4691-944c-87ce552e05fe"
   },
   "outputs": [
    {
     "data": {
      "text/html": [
       "<div>\n",
       "<style scoped>\n",
       "    .dataframe tbody tr th:only-of-type {\n",
       "        vertical-align: middle;\n",
       "    }\n",
       "\n",
       "    .dataframe tbody tr th {\n",
       "        vertical-align: top;\n",
       "    }\n",
       "\n",
       "    .dataframe thead th {\n",
       "        text-align: right;\n",
       "    }\n",
       "</style>\n",
       "<table border=\"1\" class=\"dataframe\">\n",
       "  <thead>\n",
       "    <tr style=\"text-align: right;\">\n",
       "      <th></th>\n",
       "      <th>mobile no.</th>\n",
       "      <th>churn_probability</th>\n",
       "      <th>Risk</th>\n",
       "    </tr>\n",
       "  </thead>\n",
       "  <tbody>\n",
       "    <tr>\n",
       "      <th>0</th>\n",
       "      <td>354-8814</td>\n",
       "      <td>0.055</td>\n",
       "      <td>LOW</td>\n",
       "    </tr>\n",
       "    <tr>\n",
       "      <th>1</th>\n",
       "      <td>381-7210</td>\n",
       "      <td>0.010</td>\n",
       "      <td>LOW</td>\n",
       "    </tr>\n",
       "    <tr>\n",
       "      <th>2</th>\n",
       "      <td>411-9480</td>\n",
       "      <td>0.640</td>\n",
       "      <td>HIGH</td>\n",
       "    </tr>\n",
       "    <tr>\n",
       "      <th>3</th>\n",
       "      <td>418-9103</td>\n",
       "      <td>0.070</td>\n",
       "      <td>LOW</td>\n",
       "    </tr>\n",
       "    <tr>\n",
       "      <th>4</th>\n",
       "      <td>413-3646</td>\n",
       "      <td>0.015</td>\n",
       "      <td>LOW</td>\n",
       "    </tr>\n",
       "    <tr>\n",
       "      <th>5</th>\n",
       "      <td>375-6186</td>\n",
       "      <td>0.050</td>\n",
       "      <td>LOW</td>\n",
       "    </tr>\n",
       "    <tr>\n",
       "      <th>6</th>\n",
       "      <td>348-8070</td>\n",
       "      <td>0.120</td>\n",
       "      <td>LOW</td>\n",
       "    </tr>\n",
       "    <tr>\n",
       "      <th>7</th>\n",
       "      <td>359-9880</td>\n",
       "      <td>0.110</td>\n",
       "      <td>LOW</td>\n",
       "    </tr>\n",
       "    <tr>\n",
       "      <th>8</th>\n",
       "      <td>353-6954</td>\n",
       "      <td>0.355</td>\n",
       "      <td>LOW</td>\n",
       "    </tr>\n",
       "    <tr>\n",
       "      <th>9</th>\n",
       "      <td>403-4933</td>\n",
       "      <td>0.080</td>\n",
       "      <td>LOW</td>\n",
       "    </tr>\n",
       "    <tr>\n",
       "      <th>10</th>\n",
       "      <td>360-3811</td>\n",
       "      <td>0.060</td>\n",
       "      <td>LOW</td>\n",
       "    </tr>\n",
       "    <tr>\n",
       "      <th>11</th>\n",
       "      <td>353-1755</td>\n",
       "      <td>0.105</td>\n",
       "      <td>LOW</td>\n",
       "    </tr>\n",
       "    <tr>\n",
       "      <th>12</th>\n",
       "      <td>372-8233</td>\n",
       "      <td>0.060</td>\n",
       "      <td>LOW</td>\n",
       "    </tr>\n",
       "    <tr>\n",
       "      <th>13</th>\n",
       "      <td>371-5951</td>\n",
       "      <td>0.025</td>\n",
       "      <td>LOW</td>\n",
       "    </tr>\n",
       "    <tr>\n",
       "      <th>14</th>\n",
       "      <td>381-5937</td>\n",
       "      <td>0.200</td>\n",
       "      <td>LOW</td>\n",
       "    </tr>\n",
       "    <tr>\n",
       "      <th>15</th>\n",
       "      <td>357-1784</td>\n",
       "      <td>0.085</td>\n",
       "      <td>LOW</td>\n",
       "    </tr>\n",
       "    <tr>\n",
       "      <th>16</th>\n",
       "      <td>350-8209</td>\n",
       "      <td>0.055</td>\n",
       "      <td>LOW</td>\n",
       "    </tr>\n",
       "    <tr>\n",
       "      <th>17</th>\n",
       "      <td>400-5627</td>\n",
       "      <td>0.165</td>\n",
       "      <td>LOW</td>\n",
       "    </tr>\n",
       "    <tr>\n",
       "      <th>18</th>\n",
       "      <td>391-3827</td>\n",
       "      <td>0.080</td>\n",
       "      <td>LOW</td>\n",
       "    </tr>\n",
       "    <tr>\n",
       "      <th>19</th>\n",
       "      <td>365-4330</td>\n",
       "      <td>0.105</td>\n",
       "      <td>LOW</td>\n",
       "    </tr>\n",
       "    <tr>\n",
       "      <th>20</th>\n",
       "      <td>328-6124</td>\n",
       "      <td>0.055</td>\n",
       "      <td>LOW</td>\n",
       "    </tr>\n",
       "    <tr>\n",
       "      <th>21</th>\n",
       "      <td>328-1642</td>\n",
       "      <td>0.075</td>\n",
       "      <td>LOW</td>\n",
       "    </tr>\n",
       "    <tr>\n",
       "      <th>22</th>\n",
       "      <td>419-9753</td>\n",
       "      <td>0.040</td>\n",
       "      <td>LOW</td>\n",
       "    </tr>\n",
       "    <tr>\n",
       "      <th>23</th>\n",
       "      <td>413-5754</td>\n",
       "      <td>0.320</td>\n",
       "      <td>LOW</td>\n",
       "    </tr>\n",
       "    <tr>\n",
       "      <th>24</th>\n",
       "      <td>373-8390</td>\n",
       "      <td>0.165</td>\n",
       "      <td>LOW</td>\n",
       "    </tr>\n",
       "    <tr>\n",
       "      <th>25</th>\n",
       "      <td>359-5139</td>\n",
       "      <td>0.035</td>\n",
       "      <td>LOW</td>\n",
       "    </tr>\n",
       "    <tr>\n",
       "      <th>26</th>\n",
       "      <td>359-8799</td>\n",
       "      <td>0.355</td>\n",
       "      <td>LOW</td>\n",
       "    </tr>\n",
       "    <tr>\n",
       "      <th>27</th>\n",
       "      <td>416-8332</td>\n",
       "      <td>0.060</td>\n",
       "      <td>LOW</td>\n",
       "    </tr>\n",
       "    <tr>\n",
       "      <th>28</th>\n",
       "      <td>350-4349</td>\n",
       "      <td>0.040</td>\n",
       "      <td>LOW</td>\n",
       "    </tr>\n",
       "    <tr>\n",
       "      <th>29</th>\n",
       "      <td>369-6937</td>\n",
       "      <td>0.090</td>\n",
       "      <td>LOW</td>\n",
       "    </tr>\n",
       "    <tr>\n",
       "      <th>...</th>\n",
       "      <td>...</td>\n",
       "      <td>...</td>\n",
       "      <td>...</td>\n",
       "    </tr>\n",
       "    <tr>\n",
       "      <th>1642</th>\n",
       "      <td>354-8815</td>\n",
       "      <td>0.030</td>\n",
       "      <td>LOW</td>\n",
       "    </tr>\n",
       "    <tr>\n",
       "      <th>1643</th>\n",
       "      <td>381-7211</td>\n",
       "      <td>0.015</td>\n",
       "      <td>LOW</td>\n",
       "    </tr>\n",
       "    <tr>\n",
       "      <th>1644</th>\n",
       "      <td>411-9481</td>\n",
       "      <td>0.640</td>\n",
       "      <td>HIGH</td>\n",
       "    </tr>\n",
       "    <tr>\n",
       "      <th>1645</th>\n",
       "      <td>418-9100</td>\n",
       "      <td>0.055</td>\n",
       "      <td>LOW</td>\n",
       "    </tr>\n",
       "    <tr>\n",
       "      <th>1646</th>\n",
       "      <td>413-3643</td>\n",
       "      <td>0.005</td>\n",
       "      <td>LOW</td>\n",
       "    </tr>\n",
       "    <tr>\n",
       "      <th>1647</th>\n",
       "      <td>375-6180</td>\n",
       "      <td>0.060</td>\n",
       "      <td>LOW</td>\n",
       "    </tr>\n",
       "    <tr>\n",
       "      <th>1648</th>\n",
       "      <td>348-8073</td>\n",
       "      <td>0.120</td>\n",
       "      <td>LOW</td>\n",
       "    </tr>\n",
       "    <tr>\n",
       "      <th>1649</th>\n",
       "      <td>359-9881</td>\n",
       "      <td>0.110</td>\n",
       "      <td>LOW</td>\n",
       "    </tr>\n",
       "    <tr>\n",
       "      <th>1650</th>\n",
       "      <td>397-4475</td>\n",
       "      <td>0.065</td>\n",
       "      <td>LOW</td>\n",
       "    </tr>\n",
       "    <tr>\n",
       "      <th>1651</th>\n",
       "      <td>407-6315</td>\n",
       "      <td>0.105</td>\n",
       "      <td>LOW</td>\n",
       "    </tr>\n",
       "    <tr>\n",
       "      <th>1652</th>\n",
       "      <td>364-8203</td>\n",
       "      <td>0.970</td>\n",
       "      <td>HIGH</td>\n",
       "    </tr>\n",
       "    <tr>\n",
       "      <th>1653</th>\n",
       "      <td>410-3888</td>\n",
       "      <td>0.965</td>\n",
       "      <td>HIGH</td>\n",
       "    </tr>\n",
       "    <tr>\n",
       "      <th>1654</th>\n",
       "      <td>355-3630</td>\n",
       "      <td>0.050</td>\n",
       "      <td>LOW</td>\n",
       "    </tr>\n",
       "    <tr>\n",
       "      <th>1655</th>\n",
       "      <td>411-9655</td>\n",
       "      <td>0.025</td>\n",
       "      <td>LOW</td>\n",
       "    </tr>\n",
       "    <tr>\n",
       "      <th>1656</th>\n",
       "      <td>417-1886</td>\n",
       "      <td>0.105</td>\n",
       "      <td>LOW</td>\n",
       "    </tr>\n",
       "    <tr>\n",
       "      <th>1657</th>\n",
       "      <td>365-8751</td>\n",
       "      <td>0.550</td>\n",
       "      <td>HIGH</td>\n",
       "    </tr>\n",
       "    <tr>\n",
       "      <th>1658</th>\n",
       "      <td>334-9736</td>\n",
       "      <td>0.115</td>\n",
       "      <td>LOW</td>\n",
       "    </tr>\n",
       "    <tr>\n",
       "      <th>1659</th>\n",
       "      <td>398-3190</td>\n",
       "      <td>0.695</td>\n",
       "      <td>HIGH</td>\n",
       "    </tr>\n",
       "    <tr>\n",
       "      <th>1660</th>\n",
       "      <td>386-3542</td>\n",
       "      <td>0.935</td>\n",
       "      <td>HIGH</td>\n",
       "    </tr>\n",
       "    <tr>\n",
       "      <th>1661</th>\n",
       "      <td>328-6797</td>\n",
       "      <td>0.115</td>\n",
       "      <td>LOW</td>\n",
       "    </tr>\n",
       "    <tr>\n",
       "      <th>1662</th>\n",
       "      <td>357-2431</td>\n",
       "      <td>0.765</td>\n",
       "      <td>HIGH</td>\n",
       "    </tr>\n",
       "    <tr>\n",
       "      <th>1663</th>\n",
       "      <td>344-2491</td>\n",
       "      <td>0.950</td>\n",
       "      <td>HIGH</td>\n",
       "    </tr>\n",
       "    <tr>\n",
       "      <th>1664</th>\n",
       "      <td>395-1013</td>\n",
       "      <td>0.165</td>\n",
       "      <td>LOW</td>\n",
       "    </tr>\n",
       "    <tr>\n",
       "      <th>1665</th>\n",
       "      <td>377-6134</td>\n",
       "      <td>0.705</td>\n",
       "      <td>HIGH</td>\n",
       "    </tr>\n",
       "    <tr>\n",
       "      <th>1666</th>\n",
       "      <td>367-1324</td>\n",
       "      <td>0.845</td>\n",
       "      <td>HIGH</td>\n",
       "    </tr>\n",
       "    <tr>\n",
       "      <th>1667</th>\n",
       "      <td>395-3867</td>\n",
       "      <td>0.895</td>\n",
       "      <td>HIGH</td>\n",
       "    </tr>\n",
       "    <tr>\n",
       "      <th>1668</th>\n",
       "      <td>391-5977</td>\n",
       "      <td>0.040</td>\n",
       "      <td>LOW</td>\n",
       "    </tr>\n",
       "    <tr>\n",
       "      <th>1669</th>\n",
       "      <td>403-2223</td>\n",
       "      <td>0.095</td>\n",
       "      <td>LOW</td>\n",
       "    </tr>\n",
       "    <tr>\n",
       "      <th>1670</th>\n",
       "      <td>420-7243</td>\n",
       "      <td>0.335</td>\n",
       "      <td>LOW</td>\n",
       "    </tr>\n",
       "    <tr>\n",
       "      <th>1671</th>\n",
       "      <td>408-1869</td>\n",
       "      <td>0.960</td>\n",
       "      <td>HIGH</td>\n",
       "    </tr>\n",
       "  </tbody>\n",
       "</table>\n",
       "<p>1672 rows × 3 columns</p>\n",
       "</div>"
      ],
      "text/plain": [
       "     mobile no.  churn_probability  Risk\n",
       "0      354-8814              0.055   LOW\n",
       "1      381-7210              0.010   LOW\n",
       "2      411-9480              0.640  HIGH\n",
       "3      418-9103              0.070   LOW\n",
       "4      413-3646              0.015   LOW\n",
       "5      375-6186              0.050   LOW\n",
       "6      348-8070              0.120   LOW\n",
       "7      359-9880              0.110   LOW\n",
       "8      353-6954              0.355   LOW\n",
       "9      403-4933              0.080   LOW\n",
       "10     360-3811              0.060   LOW\n",
       "11     353-1755              0.105   LOW\n",
       "12     372-8233              0.060   LOW\n",
       "13     371-5951              0.025   LOW\n",
       "14     381-5937              0.200   LOW\n",
       "15     357-1784              0.085   LOW\n",
       "16     350-8209              0.055   LOW\n",
       "17     400-5627              0.165   LOW\n",
       "18     391-3827              0.080   LOW\n",
       "19     365-4330              0.105   LOW\n",
       "20     328-6124              0.055   LOW\n",
       "21     328-1642              0.075   LOW\n",
       "22     419-9753              0.040   LOW\n",
       "23     413-5754              0.320   LOW\n",
       "24     373-8390              0.165   LOW\n",
       "25     359-5139              0.035   LOW\n",
       "26     359-8799              0.355   LOW\n",
       "27     416-8332              0.060   LOW\n",
       "28     350-4349              0.040   LOW\n",
       "29     369-6937              0.090   LOW\n",
       "...         ...                ...   ...\n",
       "1642   354-8815              0.030   LOW\n",
       "1643   381-7211              0.015   LOW\n",
       "1644   411-9481              0.640  HIGH\n",
       "1645   418-9100              0.055   LOW\n",
       "1646   413-3643              0.005   LOW\n",
       "1647   375-6180              0.060   LOW\n",
       "1648   348-8073              0.120   LOW\n",
       "1649   359-9881              0.110   LOW\n",
       "1650   397-4475              0.065   LOW\n",
       "1651   407-6315              0.105   LOW\n",
       "1652   364-8203              0.970  HIGH\n",
       "1653   410-3888              0.965  HIGH\n",
       "1654   355-3630              0.050   LOW\n",
       "1655   411-9655              0.025   LOW\n",
       "1656   417-1886              0.105   LOW\n",
       "1657   365-8751              0.550  HIGH\n",
       "1658   334-9736              0.115   LOW\n",
       "1659   398-3190              0.695  HIGH\n",
       "1660   386-3542              0.935  HIGH\n",
       "1661   328-6797              0.115   LOW\n",
       "1662   357-2431              0.765  HIGH\n",
       "1663   344-2491              0.950  HIGH\n",
       "1664   395-1013              0.165   LOW\n",
       "1665   377-6134              0.705  HIGH\n",
       "1666   367-1324              0.845  HIGH\n",
       "1667   395-3867              0.895  HIGH\n",
       "1668   391-5977              0.040   LOW\n",
       "1669   403-2223              0.095   LOW\n",
       "1670   420-7243              0.335   LOW\n",
       "1671   408-1869              0.960  HIGH\n",
       "\n",
       "[1672 rows x 3 columns]"
      ]
     },
     "execution_count": 372,
     "metadata": {},
     "output_type": "execute_result"
    }
   ],
   "source": [
    "churn_probability"
   ]
  },
  {
   "cell_type": "code",
   "execution_count": 373,
   "metadata": {
    "colab": {
     "base_uri": "https://localhost:8080/",
     "height": 298
    },
    "colab_type": "code",
    "id": "qvgM-bmJHLGN",
    "outputId": "da47e240-4967-478b-a73b-1888e389ecbe"
   },
   "outputs": [
    {
     "data": {
      "text/plain": [
       "<matplotlib.axes._subplots.AxesSubplot at 0x22ebbc50>"
      ]
     },
     "execution_count": 373,
     "metadata": {},
     "output_type": "execute_result"
    },
    {
     "data": {
      "image/png": "[encoded data removed]",
      "text/plain": [
       "<Figure size 432x288 with 1 Axes>"
      ]
     },
     "metadata": {
      "needs_background": "light"
     },
     "output_type": "display_data"
    }
   ],
   "source": [
    "churn_probability['Risk'].value_counts().plot(kind='bar')"
   ]
  },
  {
   "cell_type": "code",
   "execution_count": null,
   "metadata": {},
   "outputs": [],
   "source": []
  }
 ],
 "metadata": {
  "colab": {
   "name": "case_study_solution.ipynb",
   "provenance": []
  },
  "kernelspec": {
   "display_name": "Python 3",
   "language": "python",
   "name": "python3"
  },
  "language_info": {
   "codemirror_mode": {
    "name": "ipython",
    "version": 3
   },
   "file_extension": ".py",
   "mimetype": "text/x-python",
   "name": "python",
   "nbconvert_exporter": "python",
   "pygments_lexer": "ipython3",
   "version": "3.7.3"
  }
 },
 "nbformat": 4,
 "nbformat_minor": 1
}
